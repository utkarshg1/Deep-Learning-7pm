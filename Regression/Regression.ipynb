{
 "cells": [
  {
   "cell_type": "markdown",
   "metadata": {},
   "source": [
    "# Regression in Keras"
   ]
  },
  {
   "cell_type": "code",
   "execution_count": 1,
   "metadata": {},
   "outputs": [],
   "source": [
    "from warnings import filterwarnings\n",
    "filterwarnings('ignore')"
   ]
  },
  {
   "cell_type": "markdown",
   "metadata": {},
   "source": [
    "### Create a regression dataset with 10 columns"
   ]
  },
  {
   "cell_type": "code",
   "execution_count": 2,
   "metadata": {},
   "outputs": [],
   "source": [
    "from sklearn.datasets import make_regression \n",
    "X, Y = make_regression(n_samples=2000, n_features=15, noise=10, random_state=42)"
   ]
  },
  {
   "cell_type": "code",
   "execution_count": 4,
   "metadata": {},
   "outputs": [
    {
     "data": {
      "text/plain": [
       "array([[-1.17696211,  1.19311295, -0.2215366 , ...,  0.78400278,\n",
       "         1.02151539, -0.98453405],\n",
       "       [ 1.69505104, -1.40631746,  0.04360245, ..., -0.42930222,\n",
       "        -0.08310557, -0.61176909],\n",
       "       [-0.1382643 , -0.46341769,  0.49671415, ..., -0.46947439,\n",
       "        -0.46572975,  1.57921282],\n",
       "       ...,\n",
       "       [ 0.05946593,  0.60608518, -1.45596504, ...,  1.2924069 ,\n",
       "        -0.72547532,  1.46572641],\n",
       "       [-1.1859422 ,  0.13408869,  0.23743766, ...,  0.61696884,\n",
       "         0.93397432,  0.82805822],\n",
       "       [ 0.22084177,  0.61657935, -0.033068  , ...,  0.16342782,\n",
       "        -1.30709834,  0.32982306]])"
      ]
     },
     "execution_count": 4,
     "metadata": {},
     "output_type": "execute_result"
    }
   ],
   "source": [
    "X"
   ]
  },
  {
   "cell_type": "code",
   "execution_count": 5,
   "metadata": {},
   "outputs": [
    {
     "data": {
      "text/plain": [
       "(2000, 15)"
      ]
     },
     "execution_count": 5,
     "metadata": {},
     "output_type": "execute_result"
    }
   ],
   "source": [
    "X.shape"
   ]
  },
  {
   "cell_type": "code",
   "execution_count": 6,
   "metadata": {},
   "outputs": [
    {
     "data": {
      "text/plain": [
       "array([ -42.09237112,    7.59948313,  259.34233549, ..., -212.43549359,\n",
       "       -306.92429931,  -13.74320147])"
      ]
     },
     "execution_count": 6,
     "metadata": {},
     "output_type": "execute_result"
    }
   ],
   "source": [
    "Y"
   ]
  },
  {
   "cell_type": "markdown",
   "metadata": {},
   "source": [
    "### Save above X and Y in dataframe format"
   ]
  },
  {
   "cell_type": "code",
   "execution_count": 7,
   "metadata": {},
   "outputs": [
    {
     "data": {
      "text/plain": [
       "['x1',\n",
       " 'x2',\n",
       " 'x3',\n",
       " 'x4',\n",
       " 'x5',\n",
       " 'x6',\n",
       " 'x7',\n",
       " 'x8',\n",
       " 'x9',\n",
       " 'x10',\n",
       " 'x11',\n",
       " 'x12',\n",
       " 'x13',\n",
       " 'x14',\n",
       " 'x15']"
      ]
     },
     "execution_count": 7,
     "metadata": {},
     "output_type": "execute_result"
    }
   ],
   "source": [
    "cols = [f'x{i+1}' for i in range(15)]\n",
    "cols"
   ]
  },
  {
   "cell_type": "code",
   "execution_count": 8,
   "metadata": {},
   "outputs": [
    {
     "data": {
      "text/html": [
       "<div>\n",
       "<style scoped>\n",
       "    .dataframe tbody tr th:only-of-type {\n",
       "        vertical-align: middle;\n",
       "    }\n",
       "\n",
       "    .dataframe tbody tr th {\n",
       "        vertical-align: top;\n",
       "    }\n",
       "\n",
       "    .dataframe thead th {\n",
       "        text-align: right;\n",
       "    }\n",
       "</style>\n",
       "<table border=\"1\" class=\"dataframe\">\n",
       "  <thead>\n",
       "    <tr style=\"text-align: right;\">\n",
       "      <th></th>\n",
       "      <th>x1</th>\n",
       "      <th>x2</th>\n",
       "      <th>x3</th>\n",
       "      <th>x4</th>\n",
       "      <th>x5</th>\n",
       "      <th>x6</th>\n",
       "      <th>x7</th>\n",
       "      <th>x8</th>\n",
       "      <th>x9</th>\n",
       "      <th>x10</th>\n",
       "      <th>x11</th>\n",
       "      <th>x12</th>\n",
       "      <th>x13</th>\n",
       "      <th>x14</th>\n",
       "      <th>x15</th>\n",
       "    </tr>\n",
       "  </thead>\n",
       "  <tbody>\n",
       "    <tr>\n",
       "      <th>0</th>\n",
       "      <td>-1.176962</td>\n",
       "      <td>1.193113</td>\n",
       "      <td>-0.221537</td>\n",
       "      <td>0.918915</td>\n",
       "      <td>-0.188261</td>\n",
       "      <td>0.209470</td>\n",
       "      <td>-0.459657</td>\n",
       "      <td>-1.079842</td>\n",
       "      <td>1.820544</td>\n",
       "      <td>-0.566395</td>\n",
       "      <td>0.831617</td>\n",
       "      <td>-0.005955</td>\n",
       "      <td>0.784003</td>\n",
       "      <td>1.021515</td>\n",
       "      <td>-0.984534</td>\n",
       "    </tr>\n",
       "    <tr>\n",
       "      <th>1</th>\n",
       "      <td>1.695051</td>\n",
       "      <td>-1.406317</td>\n",
       "      <td>0.043602</td>\n",
       "      <td>-1.504720</td>\n",
       "      <td>-0.692421</td>\n",
       "      <td>-1.320023</td>\n",
       "      <td>0.760056</td>\n",
       "      <td>0.082440</td>\n",
       "      <td>-0.622649</td>\n",
       "      <td>0.194607</td>\n",
       "      <td>-0.742471</td>\n",
       "      <td>-0.037037</td>\n",
       "      <td>-0.429302</td>\n",
       "      <td>-0.083106</td>\n",
       "      <td>-0.611769</td>\n",
       "    </tr>\n",
       "    <tr>\n",
       "      <th>2</th>\n",
       "      <td>-0.138264</td>\n",
       "      <td>-0.463418</td>\n",
       "      <td>0.496714</td>\n",
       "      <td>0.241962</td>\n",
       "      <td>0.542560</td>\n",
       "      <td>-0.234137</td>\n",
       "      <td>-1.913280</td>\n",
       "      <td>-1.724918</td>\n",
       "      <td>0.647689</td>\n",
       "      <td>1.523030</td>\n",
       "      <td>-0.234153</td>\n",
       "      <td>0.767435</td>\n",
       "      <td>-0.469474</td>\n",
       "      <td>-0.465730</td>\n",
       "      <td>1.579213</td>\n",
       "    </tr>\n",
       "    <tr>\n",
       "      <th>3</th>\n",
       "      <td>0.616664</td>\n",
       "      <td>0.609880</td>\n",
       "      <td>1.260850</td>\n",
       "      <td>0.794923</td>\n",
       "      <td>-0.310938</td>\n",
       "      <td>-1.075737</td>\n",
       "      <td>1.349135</td>\n",
       "      <td>1.058170</td>\n",
       "      <td>0.087974</td>\n",
       "      <td>-0.440275</td>\n",
       "      <td>-0.528998</td>\n",
       "      <td>-2.120087</td>\n",
       "      <td>-0.736064</td>\n",
       "      <td>-0.039926</td>\n",
       "      <td>-0.431456</td>\n",
       "    </tr>\n",
       "    <tr>\n",
       "      <th>4</th>\n",
       "      <td>0.626614</td>\n",
       "      <td>1.481961</td>\n",
       "      <td>-0.248616</td>\n",
       "      <td>-0.565576</td>\n",
       "      <td>-0.802280</td>\n",
       "      <td>2.154929</td>\n",
       "      <td>-0.471316</td>\n",
       "      <td>0.718417</td>\n",
       "      <td>0.045564</td>\n",
       "      <td>0.623407</td>\n",
       "      <td>0.703440</td>\n",
       "      <td>-0.941023</td>\n",
       "      <td>0.246084</td>\n",
       "      <td>-0.283218</td>\n",
       "      <td>-0.315297</td>\n",
       "    </tr>\n",
       "  </tbody>\n",
       "</table>\n",
       "</div>"
      ],
      "text/plain": [
       "         x1        x2        x3        x4        x5        x6        x7  \\\n",
       "0 -1.176962  1.193113 -0.221537  0.918915 -0.188261  0.209470 -0.459657   \n",
       "1  1.695051 -1.406317  0.043602 -1.504720 -0.692421 -1.320023  0.760056   \n",
       "2 -0.138264 -0.463418  0.496714  0.241962  0.542560 -0.234137 -1.913280   \n",
       "3  0.616664  0.609880  1.260850  0.794923 -0.310938 -1.075737  1.349135   \n",
       "4  0.626614  1.481961 -0.248616 -0.565576 -0.802280  2.154929 -0.471316   \n",
       "\n",
       "         x8        x9       x10       x11       x12       x13       x14  \\\n",
       "0 -1.079842  1.820544 -0.566395  0.831617 -0.005955  0.784003  1.021515   \n",
       "1  0.082440 -0.622649  0.194607 -0.742471 -0.037037 -0.429302 -0.083106   \n",
       "2 -1.724918  0.647689  1.523030 -0.234153  0.767435 -0.469474 -0.465730   \n",
       "3  1.058170  0.087974 -0.440275 -0.528998 -2.120087 -0.736064 -0.039926   \n",
       "4  0.718417  0.045564  0.623407  0.703440 -0.941023  0.246084 -0.283218   \n",
       "\n",
       "        x15  \n",
       "0 -0.984534  \n",
       "1 -0.611769  \n",
       "2  1.579213  \n",
       "3 -0.431456  \n",
       "4 -0.315297  "
      ]
     },
     "execution_count": 8,
     "metadata": {},
     "output_type": "execute_result"
    }
   ],
   "source": [
    "import pandas as pd \n",
    "X = pd.DataFrame(X)\n",
    "X.columns = cols\n",
    "X.head()"
   ]
  },
  {
   "cell_type": "code",
   "execution_count": 9,
   "metadata": {},
   "outputs": [
    {
     "data": {
      "text/html": [
       "<div>\n",
       "<style scoped>\n",
       "    .dataframe tbody tr th:only-of-type {\n",
       "        vertical-align: middle;\n",
       "    }\n",
       "\n",
       "    .dataframe tbody tr th {\n",
       "        vertical-align: top;\n",
       "    }\n",
       "\n",
       "    .dataframe thead th {\n",
       "        text-align: right;\n",
       "    }\n",
       "</style>\n",
       "<table border=\"1\" class=\"dataframe\">\n",
       "  <thead>\n",
       "    <tr style=\"text-align: right;\">\n",
       "      <th></th>\n",
       "      <th>y</th>\n",
       "    </tr>\n",
       "  </thead>\n",
       "  <tbody>\n",
       "    <tr>\n",
       "      <th>0</th>\n",
       "      <td>-42.092371</td>\n",
       "    </tr>\n",
       "    <tr>\n",
       "      <th>1</th>\n",
       "      <td>7.599483</td>\n",
       "    </tr>\n",
       "    <tr>\n",
       "      <th>2</th>\n",
       "      <td>259.342335</td>\n",
       "    </tr>\n",
       "    <tr>\n",
       "      <th>3</th>\n",
       "      <td>-116.773129</td>\n",
       "    </tr>\n",
       "    <tr>\n",
       "      <th>4</th>\n",
       "      <td>26.679849</td>\n",
       "    </tr>\n",
       "  </tbody>\n",
       "</table>\n",
       "</div>"
      ],
      "text/plain": [
       "            y\n",
       "0  -42.092371\n",
       "1    7.599483\n",
       "2  259.342335\n",
       "3 -116.773129\n",
       "4   26.679849"
      ]
     },
     "execution_count": 9,
     "metadata": {},
     "output_type": "execute_result"
    }
   ],
   "source": [
    "Y = pd.DataFrame(Y)\n",
    "Y.columns = ['y']\n",
    "Y.head()"
   ]
  },
  {
   "cell_type": "markdown",
   "metadata": {},
   "source": [
    "### Apply preprocessing for X"
   ]
  },
  {
   "cell_type": "code",
   "execution_count": 10,
   "metadata": {},
   "outputs": [],
   "source": [
    "from sklearn.pipeline import Pipeline\n",
    "from sklearn.impute import SimpleImputer\n",
    "from sklearn.preprocessing import StandardScaler"
   ]
  },
  {
   "cell_type": "code",
   "execution_count": 11,
   "metadata": {},
   "outputs": [],
   "source": [
    "num_pipe = Pipeline(steps=[('impute', SimpleImputer(strategy='mean')),\n",
    "                           ('scaler', StandardScaler())]).set_output(transform='pandas')"
   ]
  },
  {
   "cell_type": "code",
   "execution_count": 12,
   "metadata": {},
   "outputs": [
    {
     "data": {
      "text/html": [
       "<div>\n",
       "<style scoped>\n",
       "    .dataframe tbody tr th:only-of-type {\n",
       "        vertical-align: middle;\n",
       "    }\n",
       "\n",
       "    .dataframe tbody tr th {\n",
       "        vertical-align: top;\n",
       "    }\n",
       "\n",
       "    .dataframe thead th {\n",
       "        text-align: right;\n",
       "    }\n",
       "</style>\n",
       "<table border=\"1\" class=\"dataframe\">\n",
       "  <thead>\n",
       "    <tr style=\"text-align: right;\">\n",
       "      <th></th>\n",
       "      <th>x1</th>\n",
       "      <th>x2</th>\n",
       "      <th>x3</th>\n",
       "      <th>x4</th>\n",
       "      <th>x5</th>\n",
       "      <th>x6</th>\n",
       "      <th>x7</th>\n",
       "      <th>x8</th>\n",
       "      <th>x9</th>\n",
       "      <th>x10</th>\n",
       "      <th>x11</th>\n",
       "      <th>x12</th>\n",
       "      <th>x13</th>\n",
       "      <th>x14</th>\n",
       "      <th>x15</th>\n",
       "    </tr>\n",
       "  </thead>\n",
       "  <tbody>\n",
       "    <tr>\n",
       "      <th>0</th>\n",
       "      <td>-1.199293</td>\n",
       "      <td>1.155898</td>\n",
       "      <td>-0.193221</td>\n",
       "      <td>0.933054</td>\n",
       "      <td>-0.182677</td>\n",
       "      <td>0.216018</td>\n",
       "      <td>-0.456107</td>\n",
       "      <td>-1.092772</td>\n",
       "      <td>1.824932</td>\n",
       "      <td>-0.574044</td>\n",
       "      <td>0.841678</td>\n",
       "      <td>0.017024</td>\n",
       "      <td>0.857201</td>\n",
       "      <td>0.971209</td>\n",
       "      <td>-1.009416</td>\n",
       "    </tr>\n",
       "    <tr>\n",
       "      <th>1</th>\n",
       "      <td>1.712028</td>\n",
       "      <td>-1.410221</td>\n",
       "      <td>0.064642</td>\n",
       "      <td>-1.469889</td>\n",
       "      <td>-0.692999</td>\n",
       "      <td>-1.301829</td>\n",
       "      <td>0.754315</td>\n",
       "      <td>0.081054</td>\n",
       "      <td>-0.652243</td>\n",
       "      <td>0.185379</td>\n",
       "      <td>-0.767294</td>\n",
       "      <td>-0.013752</td>\n",
       "      <td>-0.396293</td>\n",
       "      <td>-0.122887</td>\n",
       "      <td>-0.633136</td>\n",
       "    </tr>\n",
       "    <tr>\n",
       "      <th>2</th>\n",
       "      <td>-0.146379</td>\n",
       "      <td>-0.479405</td>\n",
       "      <td>0.505319</td>\n",
       "      <td>0.261881</td>\n",
       "      <td>0.557078</td>\n",
       "      <td>-0.224211</td>\n",
       "      <td>-1.898657</td>\n",
       "      <td>-1.744255</td>\n",
       "      <td>0.635764</td>\n",
       "      <td>1.511046</td>\n",
       "      <td>-0.247711</td>\n",
       "      <td>0.782780</td>\n",
       "      <td>-0.437795</td>\n",
       "      <td>-0.501865</td>\n",
       "      <td>1.578510</td>\n",
       "    </tr>\n",
       "    <tr>\n",
       "      <th>3</th>\n",
       "      <td>0.618882</td>\n",
       "      <td>0.580139</td>\n",
       "      <td>1.248484</td>\n",
       "      <td>0.810121</td>\n",
       "      <td>-0.306853</td>\n",
       "      <td>-1.059403</td>\n",
       "      <td>1.338907</td>\n",
       "      <td>1.066475</td>\n",
       "      <td>0.068264</td>\n",
       "      <td>-0.448186</td>\n",
       "      <td>-0.549091</td>\n",
       "      <td>-2.076242</td>\n",
       "      <td>-0.713215</td>\n",
       "      <td>-0.080119</td>\n",
       "      <td>-0.451122</td>\n",
       "    </tr>\n",
       "    <tr>\n",
       "      <th>4</th>\n",
       "      <td>0.628967</td>\n",
       "      <td>1.441044</td>\n",
       "      <td>-0.219557</td>\n",
       "      <td>-0.538763</td>\n",
       "      <td>-0.804201</td>\n",
       "      <td>2.146665</td>\n",
       "      <td>-0.467677</td>\n",
       "      <td>0.723348</td>\n",
       "      <td>0.025264</td>\n",
       "      <td>0.613289</td>\n",
       "      <td>0.710661</td>\n",
       "      <td>-0.908815</td>\n",
       "      <td>0.301464</td>\n",
       "      <td>-0.321092</td>\n",
       "      <td>-0.333867</td>\n",
       "    </tr>\n",
       "  </tbody>\n",
       "</table>\n",
       "</div>"
      ],
      "text/plain": [
       "         x1        x2        x3        x4        x5        x6        x7  \\\n",
       "0 -1.199293  1.155898 -0.193221  0.933054 -0.182677  0.216018 -0.456107   \n",
       "1  1.712028 -1.410221  0.064642 -1.469889 -0.692999 -1.301829  0.754315   \n",
       "2 -0.146379 -0.479405  0.505319  0.261881  0.557078 -0.224211 -1.898657   \n",
       "3  0.618882  0.580139  1.248484  0.810121 -0.306853 -1.059403  1.338907   \n",
       "4  0.628967  1.441044 -0.219557 -0.538763 -0.804201  2.146665 -0.467677   \n",
       "\n",
       "         x8        x9       x10       x11       x12       x13       x14  \\\n",
       "0 -1.092772  1.824932 -0.574044  0.841678  0.017024  0.857201  0.971209   \n",
       "1  0.081054 -0.652243  0.185379 -0.767294 -0.013752 -0.396293 -0.122887   \n",
       "2 -1.744255  0.635764  1.511046 -0.247711  0.782780 -0.437795 -0.501865   \n",
       "3  1.066475  0.068264 -0.448186 -0.549091 -2.076242 -0.713215 -0.080119   \n",
       "4  0.723348  0.025264  0.613289  0.710661 -0.908815  0.301464 -0.321092   \n",
       "\n",
       "        x15  \n",
       "0 -1.009416  \n",
       "1 -0.633136  \n",
       "2  1.578510  \n",
       "3 -0.451122  \n",
       "4 -0.333867  "
      ]
     },
     "execution_count": 12,
     "metadata": {},
     "output_type": "execute_result"
    }
   ],
   "source": [
    "X_pre = num_pipe.fit_transform(X)\n",
    "X_pre.head()"
   ]
  },
  {
   "cell_type": "markdown",
   "metadata": {},
   "source": [
    "### Apply Train Test split "
   ]
  },
  {
   "cell_type": "code",
   "execution_count": 13,
   "metadata": {},
   "outputs": [],
   "source": [
    "from sklearn.model_selection import train_test_split\n",
    "xtrain, xtest, ytrain, ytest = train_test_split(X_pre, Y, test_size=0.2, random_state=21)"
   ]
  },
  {
   "cell_type": "code",
   "execution_count": 14,
   "metadata": {},
   "outputs": [
    {
     "data": {
      "text/html": [
       "<div>\n",
       "<style scoped>\n",
       "    .dataframe tbody tr th:only-of-type {\n",
       "        vertical-align: middle;\n",
       "    }\n",
       "\n",
       "    .dataframe tbody tr th {\n",
       "        vertical-align: top;\n",
       "    }\n",
       "\n",
       "    .dataframe thead th {\n",
       "        text-align: right;\n",
       "    }\n",
       "</style>\n",
       "<table border=\"1\" class=\"dataframe\">\n",
       "  <thead>\n",
       "    <tr style=\"text-align: right;\">\n",
       "      <th></th>\n",
       "      <th>x1</th>\n",
       "      <th>x2</th>\n",
       "      <th>x3</th>\n",
       "      <th>x4</th>\n",
       "      <th>x5</th>\n",
       "      <th>x6</th>\n",
       "      <th>x7</th>\n",
       "      <th>x8</th>\n",
       "      <th>x9</th>\n",
       "      <th>x10</th>\n",
       "      <th>x11</th>\n",
       "      <th>x12</th>\n",
       "      <th>x13</th>\n",
       "      <th>x14</th>\n",
       "      <th>x15</th>\n",
       "    </tr>\n",
       "  </thead>\n",
       "  <tbody>\n",
       "    <tr>\n",
       "      <th>1490</th>\n",
       "      <td>-0.060969</td>\n",
       "      <td>1.223370</td>\n",
       "      <td>-1.117881</td>\n",
       "      <td>1.699192</td>\n",
       "      <td>0.950085</td>\n",
       "      <td>-0.125100</td>\n",
       "      <td>-1.187772</td>\n",
       "      <td>-0.414699</td>\n",
       "      <td>-1.696158</td>\n",
       "      <td>-0.240983</td>\n",
       "      <td>-0.459524</td>\n",
       "      <td>-1.469880</td>\n",
       "      <td>-0.331248</td>\n",
       "      <td>2.375518</td>\n",
       "      <td>-0.580194</td>\n",
       "    </tr>\n",
       "    <tr>\n",
       "      <th>965</th>\n",
       "      <td>-1.052313</td>\n",
       "      <td>2.341753</td>\n",
       "      <td>-1.178398</td>\n",
       "      <td>-0.658868</td>\n",
       "      <td>0.732369</td>\n",
       "      <td>-1.218581</td>\n",
       "      <td>1.611564</td>\n",
       "      <td>0.384769</td>\n",
       "      <td>-0.467316</td>\n",
       "      <td>1.276579</td>\n",
       "      <td>0.006462</td>\n",
       "      <td>0.746705</td>\n",
       "      <td>0.603499</td>\n",
       "      <td>2.123701</td>\n",
       "      <td>1.250572</td>\n",
       "    </tr>\n",
       "    <tr>\n",
       "      <th>1216</th>\n",
       "      <td>-0.584369</td>\n",
       "      <td>0.179143</td>\n",
       "      <td>0.230313</td>\n",
       "      <td>-0.479413</td>\n",
       "      <td>0.455451</td>\n",
       "      <td>0.699323</td>\n",
       "      <td>0.522285</td>\n",
       "      <td>0.015527</td>\n",
       "      <td>1.589255</td>\n",
       "      <td>-0.591205</td>\n",
       "      <td>-1.169224</td>\n",
       "      <td>-0.514301</td>\n",
       "      <td>0.150775</td>\n",
       "      <td>0.413993</td>\n",
       "      <td>0.446454</td>\n",
       "    </tr>\n",
       "    <tr>\n",
       "      <th>500</th>\n",
       "      <td>0.670129</td>\n",
       "      <td>1.045534</td>\n",
       "      <td>-1.873852</td>\n",
       "      <td>-0.815506</td>\n",
       "      <td>0.884143</td>\n",
       "      <td>-0.836162</td>\n",
       "      <td>1.305848</td>\n",
       "      <td>0.650962</td>\n",
       "      <td>0.976485</td>\n",
       "      <td>-1.344771</td>\n",
       "      <td>-0.913665</td>\n",
       "      <td>-0.454043</td>\n",
       "      <td>0.297868</td>\n",
       "      <td>-0.870413</td>\n",
       "      <td>-0.751260</td>\n",
       "    </tr>\n",
       "    <tr>\n",
       "      <th>403</th>\n",
       "      <td>0.722022</td>\n",
       "      <td>0.265715</td>\n",
       "      <td>-1.739688</td>\n",
       "      <td>0.175313</td>\n",
       "      <td>-0.184968</td>\n",
       "      <td>1.635613</td>\n",
       "      <td>0.490804</td>\n",
       "      <td>-1.143954</td>\n",
       "      <td>0.205189</td>\n",
       "      <td>0.001642</td>\n",
       "      <td>-1.439453</td>\n",
       "      <td>0.551279</td>\n",
       "      <td>-1.455512</td>\n",
       "      <td>0.283386</td>\n",
       "      <td>-0.523701</td>\n",
       "    </tr>\n",
       "  </tbody>\n",
       "</table>\n",
       "</div>"
      ],
      "text/plain": [
       "            x1        x2        x3        x4        x5        x6        x7  \\\n",
       "1490 -0.060969  1.223370 -1.117881  1.699192  0.950085 -0.125100 -1.187772   \n",
       "965  -1.052313  2.341753 -1.178398 -0.658868  0.732369 -1.218581  1.611564   \n",
       "1216 -0.584369  0.179143  0.230313 -0.479413  0.455451  0.699323  0.522285   \n",
       "500   0.670129  1.045534 -1.873852 -0.815506  0.884143 -0.836162  1.305848   \n",
       "403   0.722022  0.265715 -1.739688  0.175313 -0.184968  1.635613  0.490804   \n",
       "\n",
       "            x8        x9       x10       x11       x12       x13       x14  \\\n",
       "1490 -0.414699 -1.696158 -0.240983 -0.459524 -1.469880 -0.331248  2.375518   \n",
       "965   0.384769 -0.467316  1.276579  0.006462  0.746705  0.603499  2.123701   \n",
       "1216  0.015527  1.589255 -0.591205 -1.169224 -0.514301  0.150775  0.413993   \n",
       "500   0.650962  0.976485 -1.344771 -0.913665 -0.454043  0.297868 -0.870413   \n",
       "403  -1.143954  0.205189  0.001642 -1.439453  0.551279 -1.455512  0.283386   \n",
       "\n",
       "           x15  \n",
       "1490 -0.580194  \n",
       "965   1.250572  \n",
       "1216  0.446454  \n",
       "500  -0.751260  \n",
       "403  -0.523701  "
      ]
     },
     "execution_count": 14,
     "metadata": {},
     "output_type": "execute_result"
    }
   ],
   "source": [
    "xtrain.head()"
   ]
  },
  {
   "cell_type": "code",
   "execution_count": 15,
   "metadata": {},
   "outputs": [
    {
     "data": {
      "text/html": [
       "<div>\n",
       "<style scoped>\n",
       "    .dataframe tbody tr th:only-of-type {\n",
       "        vertical-align: middle;\n",
       "    }\n",
       "\n",
       "    .dataframe tbody tr th {\n",
       "        vertical-align: top;\n",
       "    }\n",
       "\n",
       "    .dataframe thead th {\n",
       "        text-align: right;\n",
       "    }\n",
       "</style>\n",
       "<table border=\"1\" class=\"dataframe\">\n",
       "  <thead>\n",
       "    <tr style=\"text-align: right;\">\n",
       "      <th></th>\n",
       "      <th>y</th>\n",
       "    </tr>\n",
       "  </thead>\n",
       "  <tbody>\n",
       "    <tr>\n",
       "      <th>1490</th>\n",
       "      <td>-356.925477</td>\n",
       "    </tr>\n",
       "    <tr>\n",
       "      <th>965</th>\n",
       "      <td>8.515626</td>\n",
       "    </tr>\n",
       "    <tr>\n",
       "      <th>1216</th>\n",
       "      <td>-44.958454</td>\n",
       "    </tr>\n",
       "    <tr>\n",
       "      <th>500</th>\n",
       "      <td>-218.346383</td>\n",
       "    </tr>\n",
       "    <tr>\n",
       "      <th>403</th>\n",
       "      <td>-211.774828</td>\n",
       "    </tr>\n",
       "  </tbody>\n",
       "</table>\n",
       "</div>"
      ],
      "text/plain": [
       "               y\n",
       "1490 -356.925477\n",
       "965     8.515626\n",
       "1216  -44.958454\n",
       "500  -218.346383\n",
       "403  -211.774828"
      ]
     },
     "execution_count": 15,
     "metadata": {},
     "output_type": "execute_result"
    }
   ],
   "source": [
    "ytrain.head()"
   ]
  },
  {
   "cell_type": "code",
   "execution_count": 16,
   "metadata": {},
   "outputs": [
    {
     "data": {
      "text/html": [
       "<div>\n",
       "<style scoped>\n",
       "    .dataframe tbody tr th:only-of-type {\n",
       "        vertical-align: middle;\n",
       "    }\n",
       "\n",
       "    .dataframe tbody tr th {\n",
       "        vertical-align: top;\n",
       "    }\n",
       "\n",
       "    .dataframe thead th {\n",
       "        text-align: right;\n",
       "    }\n",
       "</style>\n",
       "<table border=\"1\" class=\"dataframe\">\n",
       "  <thead>\n",
       "    <tr style=\"text-align: right;\">\n",
       "      <th></th>\n",
       "      <th>x1</th>\n",
       "      <th>x2</th>\n",
       "      <th>x3</th>\n",
       "      <th>x4</th>\n",
       "      <th>x5</th>\n",
       "      <th>x6</th>\n",
       "      <th>x7</th>\n",
       "      <th>x8</th>\n",
       "      <th>x9</th>\n",
       "      <th>x10</th>\n",
       "      <th>x11</th>\n",
       "      <th>x12</th>\n",
       "      <th>x13</th>\n",
       "      <th>x14</th>\n",
       "      <th>x15</th>\n",
       "    </tr>\n",
       "  </thead>\n",
       "  <tbody>\n",
       "    <tr>\n",
       "      <th>541</th>\n",
       "      <td>0.017174</td>\n",
       "      <td>0.487604</td>\n",
       "      <td>-1.858775</td>\n",
       "      <td>-0.583974</td>\n",
       "      <td>-0.387295</td>\n",
       "      <td>-0.065636</td>\n",
       "      <td>-0.523923</td>\n",
       "      <td>1.364303</td>\n",
       "      <td>0.612662</td>\n",
       "      <td>0.184223</td>\n",
       "      <td>1.330525</td>\n",
       "      <td>0.609403</td>\n",
       "      <td>0.149833</td>\n",
       "      <td>-0.686883</td>\n",
       "      <td>-0.201889</td>\n",
       "    </tr>\n",
       "    <tr>\n",
       "      <th>1211</th>\n",
       "      <td>1.989584</td>\n",
       "      <td>0.520781</td>\n",
       "      <td>-0.663736</td>\n",
       "      <td>0.289728</td>\n",
       "      <td>0.366811</td>\n",
       "      <td>-0.105800</td>\n",
       "      <td>1.388020</td>\n",
       "      <td>-0.255551</td>\n",
       "      <td>-0.678308</td>\n",
       "      <td>-1.673148</td>\n",
       "      <td>0.870878</td>\n",
       "      <td>-0.517249</td>\n",
       "      <td>1.980942</td>\n",
       "      <td>0.120493</td>\n",
       "      <td>-0.321497</td>\n",
       "    </tr>\n",
       "    <tr>\n",
       "      <th>1862</th>\n",
       "      <td>1.994875</td>\n",
       "      <td>0.765938</td>\n",
       "      <td>1.021518</td>\n",
       "      <td>1.917269</td>\n",
       "      <td>0.849549</td>\n",
       "      <td>1.450914</td>\n",
       "      <td>-0.636232</td>\n",
       "      <td>-0.269903</td>\n",
       "      <td>0.361577</td>\n",
       "      <td>-0.195664</td>\n",
       "      <td>1.047174</td>\n",
       "      <td>-0.691528</td>\n",
       "      <td>0.190685</td>\n",
       "      <td>-1.451170</td>\n",
       "      <td>-0.500088</td>\n",
       "    </tr>\n",
       "    <tr>\n",
       "      <th>1094</th>\n",
       "      <td>-0.494729</td>\n",
       "      <td>0.040776</td>\n",
       "      <td>0.493296</td>\n",
       "      <td>-0.968645</td>\n",
       "      <td>-0.514568</td>\n",
       "      <td>0.181483</td>\n",
       "      <td>0.370887</td>\n",
       "      <td>1.480873</td>\n",
       "      <td>-0.019259</td>\n",
       "      <td>0.932903</td>\n",
       "      <td>-0.074686</td>\n",
       "      <td>-0.044944</td>\n",
       "      <td>-2.031415</td>\n",
       "      <td>0.719149</td>\n",
       "      <td>-1.566040</td>\n",
       "    </tr>\n",
       "    <tr>\n",
       "      <th>465</th>\n",
       "      <td>-1.786021</td>\n",
       "      <td>1.009215</td>\n",
       "      <td>-0.839413</td>\n",
       "      <td>1.409137</td>\n",
       "      <td>-0.067810</td>\n",
       "      <td>0.024226</td>\n",
       "      <td>0.616150</td>\n",
       "      <td>-0.626137</td>\n",
       "      <td>-2.015388</td>\n",
       "      <td>-1.476154</td>\n",
       "      <td>1.383343</td>\n",
       "      <td>0.554112</td>\n",
       "      <td>0.105274</td>\n",
       "      <td>0.104032</td>\n",
       "      <td>0.490380</td>\n",
       "    </tr>\n",
       "  </tbody>\n",
       "</table>\n",
       "</div>"
      ],
      "text/plain": [
       "            x1        x2        x3        x4        x5        x6        x7  \\\n",
       "541   0.017174  0.487604 -1.858775 -0.583974 -0.387295 -0.065636 -0.523923   \n",
       "1211  1.989584  0.520781 -0.663736  0.289728  0.366811 -0.105800  1.388020   \n",
       "1862  1.994875  0.765938  1.021518  1.917269  0.849549  1.450914 -0.636232   \n",
       "1094 -0.494729  0.040776  0.493296 -0.968645 -0.514568  0.181483  0.370887   \n",
       "465  -1.786021  1.009215 -0.839413  1.409137 -0.067810  0.024226  0.616150   \n",
       "\n",
       "            x8        x9       x10       x11       x12       x13       x14  \\\n",
       "541   1.364303  0.612662  0.184223  1.330525  0.609403  0.149833 -0.686883   \n",
       "1211 -0.255551 -0.678308 -1.673148  0.870878 -0.517249  1.980942  0.120493   \n",
       "1862 -0.269903  0.361577 -0.195664  1.047174 -0.691528  0.190685 -1.451170   \n",
       "1094  1.480873 -0.019259  0.932903 -0.074686 -0.044944 -2.031415  0.719149   \n",
       "465  -0.626137 -2.015388 -1.476154  1.383343  0.554112  0.105274  0.104032   \n",
       "\n",
       "           x15  \n",
       "541  -0.201889  \n",
       "1211 -0.321497  \n",
       "1862 -0.500088  \n",
       "1094 -1.566040  \n",
       "465   0.490380  "
      ]
     },
     "execution_count": 16,
     "metadata": {},
     "output_type": "execute_result"
    }
   ],
   "source": [
    "xtest.head()"
   ]
  },
  {
   "cell_type": "code",
   "execution_count": 17,
   "metadata": {},
   "outputs": [
    {
     "data": {
      "text/html": [
       "<div>\n",
       "<style scoped>\n",
       "    .dataframe tbody tr th:only-of-type {\n",
       "        vertical-align: middle;\n",
       "    }\n",
       "\n",
       "    .dataframe tbody tr th {\n",
       "        vertical-align: top;\n",
       "    }\n",
       "\n",
       "    .dataframe thead th {\n",
       "        text-align: right;\n",
       "    }\n",
       "</style>\n",
       "<table border=\"1\" class=\"dataframe\">\n",
       "  <thead>\n",
       "    <tr style=\"text-align: right;\">\n",
       "      <th></th>\n",
       "      <th>y</th>\n",
       "    </tr>\n",
       "  </thead>\n",
       "  <tbody>\n",
       "    <tr>\n",
       "      <th>541</th>\n",
       "      <td>-7.918092</td>\n",
       "    </tr>\n",
       "    <tr>\n",
       "      <th>1211</th>\n",
       "      <td>91.934687</td>\n",
       "    </tr>\n",
       "    <tr>\n",
       "      <th>1862</th>\n",
       "      <td>259.032574</td>\n",
       "    </tr>\n",
       "    <tr>\n",
       "      <th>1094</th>\n",
       "      <td>-191.626509</td>\n",
       "    </tr>\n",
       "    <tr>\n",
       "      <th>465</th>\n",
       "      <td>-196.558008</td>\n",
       "    </tr>\n",
       "  </tbody>\n",
       "</table>\n",
       "</div>"
      ],
      "text/plain": [
       "               y\n",
       "541    -7.918092\n",
       "1211   91.934687\n",
       "1862  259.032574\n",
       "1094 -191.626509\n",
       "465  -196.558008"
      ]
     },
     "execution_count": 17,
     "metadata": {},
     "output_type": "execute_result"
    }
   ],
   "source": [
    "ytest.head()"
   ]
  },
  {
   "cell_type": "code",
   "execution_count": 18,
   "metadata": {},
   "outputs": [
    {
     "data": {
      "text/plain": [
       "(1600, 15)"
      ]
     },
     "execution_count": 18,
     "metadata": {},
     "output_type": "execute_result"
    }
   ],
   "source": [
    "xtrain.shape"
   ]
  },
  {
   "cell_type": "code",
   "execution_count": 19,
   "metadata": {},
   "outputs": [
    {
     "data": {
      "text/plain": [
       "(400, 15)"
      ]
     },
     "execution_count": 19,
     "metadata": {},
     "output_type": "execute_result"
    }
   ],
   "source": [
    "xtest.shape"
   ]
  },
  {
   "cell_type": "markdown",
   "metadata": {},
   "source": [
    "### Start building the neural network"
   ]
  },
  {
   "attachments": {
    "image.png": {
     "image/png": "[encoded data removed]"
    }
   },
   "cell_type": "markdown",
   "metadata": {},
   "source": [
    "![image.png](attachment:image.png)"
   ]
  },
  {
   "cell_type": "code",
   "execution_count": 21,
   "metadata": {},
   "outputs": [
    {
     "data": {
      "text/plain": [
       "(1600, 15)"
      ]
     },
     "execution_count": 21,
     "metadata": {},
     "output_type": "execute_result"
    }
   ],
   "source": [
    "xtrain.shape"
   ]
  },
  {
   "cell_type": "code",
   "execution_count": 22,
   "metadata": {},
   "outputs": [
    {
     "data": {
      "text/plain": [
       "15"
      ]
     },
     "execution_count": 22,
     "metadata": {},
     "output_type": "execute_result"
    }
   ],
   "source": [
    "xtrain.shape[1]"
   ]
  },
  {
   "cell_type": "code",
   "execution_count": 24,
   "metadata": {},
   "outputs": [],
   "source": [
    "from keras.models import Sequential \n",
    "from keras.layers import Dense"
   ]
  },
  {
   "cell_type": "code",
   "execution_count": 23,
   "metadata": {},
   "outputs": [
    {
     "name": "stdout",
     "output_type": "stream",
     "text": [
      "WARNING:tensorflow:From d:\\Deep Learning 7 pm\\repository\\venv\\Lib\\site-packages\\keras\\src\\backend.py:873: The name tf.get_default_graph is deprecated. Please use tf.compat.v1.get_default_graph instead.\n",
      "\n"
     ]
    }
   ],
   "source": [
    "# Initialize neural network\n",
    "model = Sequential()\n",
    "\n",
    "# Add first hidden layer\n",
    "model.add(Dense(units=32, activation='relu', input_shape=(xtrain.shape[1],)))\n",
    "# Add second hidden layer\n",
    "model.add(Dense(units=16, activation='relu'))\n",
    "# Output layer\n",
    "model.add(Dense(units=1, activation='linear'))"
   ]
  },
  {
   "cell_type": "markdown",
   "metadata": {},
   "source": [
    "### Compile the model"
   ]
  },
  {
   "cell_type": "code",
   "execution_count": 25,
   "metadata": {},
   "outputs": [
    {
     "name": "stdout",
     "output_type": "stream",
     "text": [
      "WARNING:tensorflow:From d:\\Deep Learning 7 pm\\repository\\venv\\Lib\\site-packages\\keras\\src\\optimizers\\__init__.py:309: The name tf.train.Optimizer is deprecated. Please use tf.compat.v1.train.Optimizer instead.\n",
      "\n"
     ]
    }
   ],
   "source": [
    "model.compile(optimizer='adam', loss='mse', metrics=['mae'])"
   ]
  },
  {
   "cell_type": "markdown",
   "metadata": {},
   "source": [
    "### Train the neural network"
   ]
  },
  {
   "cell_type": "code",
   "execution_count": 26,
   "metadata": {},
   "outputs": [
    {
     "name": "stdout",
     "output_type": "stream",
     "text": [
      "Epoch 1/100\n",
      "WARNING:tensorflow:From d:\\Deep Learning 7 pm\\repository\\venv\\Lib\\site-packages\\keras\\src\\utils\\tf_utils.py:492: The name tf.ragged.RaggedTensorValue is deprecated. Please use tf.compat.v1.ragged.RaggedTensorValue instead.\n",
      "\n",
      "WARNING:tensorflow:From d:\\Deep Learning 7 pm\\repository\\venv\\Lib\\site-packages\\keras\\src\\engine\\base_layer_utils.py:384: The name tf.executing_eagerly_outside_functions is deprecated. Please use tf.compat.v1.executing_eagerly_outside_functions instead.\n",
      "\n",
      "50/50 [==============================] - 2s 9ms/step - loss: 33031.5234 - mae: 144.5112 - val_loss: 32196.4766 - val_mae: 145.3109\n",
      "Epoch 2/100\n",
      "50/50 [==============================] - 0s 3ms/step - loss: 32799.7578 - mae: 143.9971 - val_loss: 31847.8574 - val_mae: 144.4749\n",
      "Epoch 3/100\n",
      "50/50 [==============================] - 0s 3ms/step - loss: 32175.7422 - mae: 142.5451 - val_loss: 30884.7051 - val_mae: 142.1104\n",
      "Epoch 4/100\n",
      "50/50 [==============================] - 0s 3ms/step - loss: 30684.9941 - mae: 138.9002 - val_loss: 28811.7148 - val_mae: 136.8180\n",
      "Epoch 5/100\n",
      "50/50 [==============================] - 0s 3ms/step - loss: 27837.9102 - mae: 131.5796 - val_loss: 25162.8750 - val_mae: 126.7812\n",
      "Epoch 6/100\n",
      "50/50 [==============================] - 0s 3ms/step - loss: 23412.0098 - mae: 119.4003 - val_loss: 20183.0430 - val_mae: 111.5097\n",
      "Epoch 7/100\n",
      "50/50 [==============================] - 0s 3ms/step - loss: 18000.1309 - mae: 102.0517 - val_loss: 14817.5146 - val_mae: 91.9925\n",
      "Epoch 8/100\n",
      "50/50 [==============================] - 0s 3ms/step - loss: 12824.3887 - mae: 82.1444 - val_loss: 10146.1328 - val_mae: 72.0415\n",
      "Epoch 9/100\n",
      "50/50 [==============================] - 0s 3ms/step - loss: 8625.3535 - mae: 64.1422 - val_loss: 6644.5049 - val_mae: 55.4718\n",
      "Epoch 10/100\n",
      "50/50 [==============================] - 0s 3ms/step - loss: 5535.6792 - mae: 48.5212 - val_loss: 4023.6587 - val_mae: 41.5962\n",
      "Epoch 11/100\n",
      "50/50 [==============================] - 0s 3ms/step - loss: 3339.4351 - mae: 36.8309 - val_loss: 2362.5388 - val_mae: 31.6666\n",
      "Epoch 12/100\n",
      "50/50 [==============================] - 0s 3ms/step - loss: 1996.5077 - mae: 29.2529 - val_loss: 1435.4966 - val_mae: 25.7208\n",
      "Epoch 13/100\n",
      "50/50 [==============================] - 0s 3ms/step - loss: 1285.0331 - mae: 25.0119 - val_loss: 994.4836 - val_mae: 22.4176\n",
      "Epoch 14/100\n",
      "50/50 [==============================] - 0s 3ms/step - loss: 940.0764 - mae: 22.5614 - val_loss: 770.9991 - val_mae: 20.4619\n",
      "Epoch 15/100\n",
      "50/50 [==============================] - 0s 3ms/step - loss: 757.3832 - mae: 20.8787 - val_loss: 646.3230 - val_mae: 19.2267\n",
      "Epoch 16/100\n",
      "50/50 [==============================] - 0s 3ms/step - loss: 632.3649 - mae: 19.3572 - val_loss: 551.1049 - val_mae: 17.9806\n",
      "Epoch 17/100\n",
      "50/50 [==============================] - 0s 4ms/step - loss: 525.8120 - mae: 17.8584 - val_loss: 460.3050 - val_mae: 16.2392\n",
      "Epoch 18/100\n",
      "50/50 [==============================] - 0s 3ms/step - loss: 446.6299 - mae: 16.4093 - val_loss: 410.2780 - val_mae: 15.5596\n",
      "Epoch 19/100\n",
      "50/50 [==============================] - 0s 3ms/step - loss: 398.4025 - mae: 15.6664 - val_loss: 370.9739 - val_mae: 14.6078\n",
      "Epoch 20/100\n",
      "50/50 [==============================] - 0s 3ms/step - loss: 370.2752 - mae: 15.0671 - val_loss: 353.7475 - val_mae: 14.5465\n",
      "Epoch 21/100\n",
      "50/50 [==============================] - 0s 3ms/step - loss: 351.2977 - mae: 14.8823 - val_loss: 337.9312 - val_mae: 14.1452\n",
      "Epoch 22/100\n",
      "50/50 [==============================] - 0s 3ms/step - loss: 340.0908 - mae: 14.5658 - val_loss: 329.5375 - val_mae: 14.1226\n",
      "Epoch 23/100\n",
      "50/50 [==============================] - 0s 3ms/step - loss: 331.1327 - mae: 14.4123 - val_loss: 320.2291 - val_mae: 13.9068\n",
      "Epoch 24/100\n",
      "50/50 [==============================] - 0s 3ms/step - loss: 323.5701 - mae: 14.2910 - val_loss: 311.7454 - val_mae: 13.6736\n",
      "Epoch 25/100\n",
      "50/50 [==============================] - 0s 3ms/step - loss: 313.6102 - mae: 14.0498 - val_loss: 305.7294 - val_mae: 13.6860\n",
      "Epoch 26/100\n",
      "50/50 [==============================] - 0s 3ms/step - loss: 306.7674 - mae: 13.8431 - val_loss: 303.6833 - val_mae: 13.7628\n",
      "Epoch 27/100\n",
      "50/50 [==============================] - 0s 3ms/step - loss: 299.8054 - mae: 13.7728 - val_loss: 293.5323 - val_mae: 13.3699\n",
      "Epoch 28/100\n",
      "50/50 [==============================] - 0s 3ms/step - loss: 291.5104 - mae: 13.5521 - val_loss: 287.6987 - val_mae: 13.3326\n",
      "Epoch 29/100\n",
      "50/50 [==============================] - 0s 3ms/step - loss: 287.5849 - mae: 13.4411 - val_loss: 282.2598 - val_mae: 13.2333\n",
      "Epoch 30/100\n",
      "50/50 [==============================] - 0s 3ms/step - loss: 279.1411 - mae: 13.2566 - val_loss: 275.3920 - val_mae: 13.0013\n",
      "Epoch 31/100\n",
      "50/50 [==============================] - 0s 3ms/step - loss: 273.7841 - mae: 13.1205 - val_loss: 271.1093 - val_mae: 12.9127\n",
      "Epoch 32/100\n",
      "50/50 [==============================] - 0s 3ms/step - loss: 267.0409 - mae: 12.8699 - val_loss: 267.2799 - val_mae: 12.8838\n",
      "Epoch 33/100\n",
      "50/50 [==============================] - 0s 3ms/step - loss: 260.5196 - mae: 12.8011 - val_loss: 259.9099 - val_mae: 12.6734\n",
      "Epoch 34/100\n",
      "50/50 [==============================] - 0s 3ms/step - loss: 255.6705 - mae: 12.6532 - val_loss: 254.2444 - val_mae: 12.4858\n",
      "Epoch 35/100\n",
      "50/50 [==============================] - 0s 3ms/step - loss: 249.1722 - mae: 12.4343 - val_loss: 251.7699 - val_mae: 12.5191\n",
      "Epoch 36/100\n",
      "50/50 [==============================] - 0s 3ms/step - loss: 242.8326 - mae: 12.3344 - val_loss: 246.6858 - val_mae: 12.4199\n",
      "Epoch 37/100\n",
      "50/50 [==============================] - 0s 3ms/step - loss: 239.6651 - mae: 12.2414 - val_loss: 240.6106 - val_mae: 12.2066\n",
      "Epoch 38/100\n",
      "50/50 [==============================] - 0s 3ms/step - loss: 233.5313 - mae: 12.0198 - val_loss: 237.3943 - val_mae: 12.2017\n",
      "Epoch 39/100\n",
      "50/50 [==============================] - 0s 2ms/step - loss: 226.5831 - mae: 11.8768 - val_loss: 234.1913 - val_mae: 12.0314\n",
      "Epoch 40/100\n",
      "50/50 [==============================] - 0s 2ms/step - loss: 222.0520 - mae: 11.7503 - val_loss: 230.5397 - val_mae: 12.0274\n",
      "Epoch 41/100\n",
      "50/50 [==============================] - 0s 2ms/step - loss: 216.7566 - mae: 11.6144 - val_loss: 225.5708 - val_mae: 11.9178\n",
      "Epoch 42/100\n",
      "50/50 [==============================] - 0s 2ms/step - loss: 212.0092 - mae: 11.4882 - val_loss: 220.9399 - val_mae: 11.7814\n",
      "Epoch 43/100\n",
      "50/50 [==============================] - 0s 2ms/step - loss: 207.9166 - mae: 11.4097 - val_loss: 216.6991 - val_mae: 11.6817\n",
      "Epoch 44/100\n",
      "50/50 [==============================] - 0s 2ms/step - loss: 201.9800 - mae: 11.2517 - val_loss: 212.8716 - val_mae: 11.5250\n",
      "Epoch 45/100\n",
      "50/50 [==============================] - 0s 2ms/step - loss: 197.3557 - mae: 11.1032 - val_loss: 208.4052 - val_mae: 11.4207\n",
      "Epoch 46/100\n",
      "50/50 [==============================] - 0s 2ms/step - loss: 192.3459 - mae: 10.9626 - val_loss: 204.8319 - val_mae: 11.3129\n",
      "Epoch 47/100\n",
      "50/50 [==============================] - 0s 2ms/step - loss: 187.6137 - mae: 10.7881 - val_loss: 203.5764 - val_mae: 11.3066\n",
      "Epoch 48/100\n",
      "50/50 [==============================] - 0s 2ms/step - loss: 184.6251 - mae: 10.7702 - val_loss: 197.9509 - val_mae: 11.1662\n",
      "Epoch 49/100\n",
      "50/50 [==============================] - 0s 2ms/step - loss: 180.1693 - mae: 10.6148 - val_loss: 195.8710 - val_mae: 11.0902\n",
      "Epoch 50/100\n",
      "50/50 [==============================] - 0s 2ms/step - loss: 175.3232 - mae: 10.4589 - val_loss: 190.3595 - val_mae: 10.9483\n",
      "Epoch 51/100\n",
      "50/50 [==============================] - 0s 2ms/step - loss: 171.2048 - mae: 10.3272 - val_loss: 187.3318 - val_mae: 10.8643\n",
      "Epoch 52/100\n",
      "50/50 [==============================] - 0s 2ms/step - loss: 167.3678 - mae: 10.2350 - val_loss: 184.4493 - val_mae: 10.7897\n",
      "Epoch 53/100\n",
      "50/50 [==============================] - 0s 2ms/step - loss: 163.2889 - mae: 10.1085 - val_loss: 181.1575 - val_mae: 10.6791\n",
      "Epoch 54/100\n",
      "50/50 [==============================] - 0s 2ms/step - loss: 160.1716 - mae: 9.9876 - val_loss: 179.7737 - val_mae: 10.6473\n",
      "Epoch 55/100\n",
      "50/50 [==============================] - 0s 2ms/step - loss: 156.7754 - mae: 9.8999 - val_loss: 175.2650 - val_mae: 10.5228\n",
      "Epoch 56/100\n",
      "50/50 [==============================] - 0s 2ms/step - loss: 153.0924 - mae: 9.8064 - val_loss: 172.1999 - val_mae: 10.4084\n",
      "Epoch 57/100\n",
      "50/50 [==============================] - 0s 2ms/step - loss: 150.4539 - mae: 9.7208 - val_loss: 169.0551 - val_mae: 10.3037\n",
      "Epoch 58/100\n",
      "50/50 [==============================] - 0s 2ms/step - loss: 147.2916 - mae: 9.6172 - val_loss: 166.0954 - val_mae: 10.2375\n",
      "Epoch 59/100\n",
      "50/50 [==============================] - 0s 2ms/step - loss: 143.8439 - mae: 9.5230 - val_loss: 163.0118 - val_mae: 10.1360\n",
      "Epoch 60/100\n",
      "50/50 [==============================] - 0s 2ms/step - loss: 140.8117 - mae: 9.3877 - val_loss: 164.0461 - val_mae: 10.1937\n",
      "Epoch 61/100\n",
      "50/50 [==============================] - 0s 2ms/step - loss: 138.5020 - mae: 9.3420 - val_loss: 161.4073 - val_mae: 10.0888\n",
      "Epoch 62/100\n",
      "50/50 [==============================] - 0s 2ms/step - loss: 135.5606 - mae: 9.2750 - val_loss: 156.9686 - val_mae: 9.9350\n",
      "Epoch 63/100\n",
      "50/50 [==============================] - 0s 2ms/step - loss: 132.8853 - mae: 9.1577 - val_loss: 155.2185 - val_mae: 9.8891\n",
      "Epoch 64/100\n",
      "50/50 [==============================] - 0s 2ms/step - loss: 130.5456 - mae: 9.0722 - val_loss: 154.0444 - val_mae: 9.8431\n",
      "Epoch 65/100\n",
      "50/50 [==============================] - 0s 2ms/step - loss: 128.7811 - mae: 9.0276 - val_loss: 150.3008 - val_mae: 9.7232\n",
      "Epoch 66/100\n",
      "50/50 [==============================] - 0s 2ms/step - loss: 126.5132 - mae: 8.9601 - val_loss: 150.2596 - val_mae: 9.7042\n",
      "Epoch 67/100\n",
      "50/50 [==============================] - 0s 2ms/step - loss: 124.7599 - mae: 8.8808 - val_loss: 148.1886 - val_mae: 9.6470\n",
      "Epoch 68/100\n",
      "50/50 [==============================] - 0s 2ms/step - loss: 122.1537 - mae: 8.7890 - val_loss: 146.5076 - val_mae: 9.5947\n",
      "Epoch 69/100\n",
      "50/50 [==============================] - 0s 2ms/step - loss: 119.8853 - mae: 8.7034 - val_loss: 144.4000 - val_mae: 9.5213\n",
      "Epoch 70/100\n",
      "50/50 [==============================] - 0s 2ms/step - loss: 118.8151 - mae: 8.6841 - val_loss: 144.4990 - val_mae: 9.5274\n",
      "Epoch 71/100\n",
      "50/50 [==============================] - 0s 2ms/step - loss: 116.6648 - mae: 8.5846 - val_loss: 140.8604 - val_mae: 9.4047\n",
      "Epoch 72/100\n",
      "50/50 [==============================] - 0s 2ms/step - loss: 115.1023 - mae: 8.5308 - val_loss: 139.8585 - val_mae: 9.3816\n",
      "Epoch 73/100\n",
      "50/50 [==============================] - 0s 2ms/step - loss: 113.3039 - mae: 8.4887 - val_loss: 139.3152 - val_mae: 9.3472\n",
      "Epoch 74/100\n",
      "50/50 [==============================] - 0s 2ms/step - loss: 112.3022 - mae: 8.4286 - val_loss: 138.4776 - val_mae: 9.3158\n",
      "Epoch 75/100\n",
      "50/50 [==============================] - 0s 2ms/step - loss: 111.0399 - mae: 8.3788 - val_loss: 137.1948 - val_mae: 9.2792\n",
      "Epoch 76/100\n",
      "50/50 [==============================] - 0s 2ms/step - loss: 109.3947 - mae: 8.3258 - val_loss: 136.7665 - val_mae: 9.2536\n",
      "Epoch 77/100\n",
      "50/50 [==============================] - 0s 2ms/step - loss: 107.8470 - mae: 8.2708 - val_loss: 135.9697 - val_mae: 9.2343\n",
      "Epoch 78/100\n",
      "50/50 [==============================] - 0s 2ms/step - loss: 106.9955 - mae: 8.2172 - val_loss: 134.2118 - val_mae: 9.1756\n",
      "Epoch 79/100\n",
      "50/50 [==============================] - 0s 2ms/step - loss: 106.1773 - mae: 8.2087 - val_loss: 132.6672 - val_mae: 9.1071\n",
      "Epoch 80/100\n",
      "50/50 [==============================] - 0s 2ms/step - loss: 105.1779 - mae: 8.1504 - val_loss: 133.5094 - val_mae: 9.1313\n",
      "Epoch 81/100\n",
      "50/50 [==============================] - 0s 2ms/step - loss: 103.7851 - mae: 8.0984 - val_loss: 131.8152 - val_mae: 9.0852\n",
      "Epoch 82/100\n",
      "50/50 [==============================] - 0s 2ms/step - loss: 103.2277 - mae: 8.1269 - val_loss: 129.9496 - val_mae: 9.0141\n",
      "Epoch 83/100\n",
      "50/50 [==============================] - 0s 2ms/step - loss: 102.1339 - mae: 8.0296 - val_loss: 128.8756 - val_mae: 8.9557\n",
      "Epoch 84/100\n",
      "50/50 [==============================] - 0s 2ms/step - loss: 101.2815 - mae: 8.0032 - val_loss: 129.5584 - val_mae: 8.9758\n",
      "Epoch 85/100\n",
      "50/50 [==============================] - 0s 2ms/step - loss: 100.1779 - mae: 7.9629 - val_loss: 128.4890 - val_mae: 8.9213\n",
      "Epoch 86/100\n",
      "50/50 [==============================] - 0s 2ms/step - loss: 100.1014 - mae: 7.9511 - val_loss: 127.9494 - val_mae: 8.9323\n",
      "Epoch 87/100\n",
      "50/50 [==============================] - 0s 2ms/step - loss: 98.5439 - mae: 7.8817 - val_loss: 127.4104 - val_mae: 8.8706\n",
      "Epoch 88/100\n",
      "50/50 [==============================] - 0s 2ms/step - loss: 98.0182 - mae: 7.8673 - val_loss: 125.9879 - val_mae: 8.8432\n",
      "Epoch 89/100\n",
      "50/50 [==============================] - 0s 2ms/step - loss: 97.5639 - mae: 7.8621 - val_loss: 127.2149 - val_mae: 8.8774\n",
      "Epoch 90/100\n",
      "50/50 [==============================] - 0s 2ms/step - loss: 97.4426 - mae: 7.8164 - val_loss: 125.0589 - val_mae: 8.8076\n",
      "Epoch 91/100\n",
      "50/50 [==============================] - 0s 2ms/step - loss: 96.4538 - mae: 7.8135 - val_loss: 124.8159 - val_mae: 8.7641\n",
      "Epoch 92/100\n",
      "50/50 [==============================] - 0s 2ms/step - loss: 96.2918 - mae: 7.8126 - val_loss: 125.8169 - val_mae: 8.8224\n",
      "Epoch 93/100\n",
      "50/50 [==============================] - 0s 2ms/step - loss: 95.4517 - mae: 7.7565 - val_loss: 125.5811 - val_mae: 8.8104\n",
      "Epoch 94/100\n",
      "50/50 [==============================] - 0s 2ms/step - loss: 94.3776 - mae: 7.7306 - val_loss: 124.8725 - val_mae: 8.7817\n",
      "Epoch 95/100\n",
      "50/50 [==============================] - 0s 2ms/step - loss: 94.6054 - mae: 7.7111 - val_loss: 124.3799 - val_mae: 8.7345\n",
      "Epoch 96/100\n",
      "50/50 [==============================] - 0s 2ms/step - loss: 94.0559 - mae: 7.7065 - val_loss: 123.1358 - val_mae: 8.6955\n",
      "Epoch 97/100\n",
      "50/50 [==============================] - 0s 2ms/step - loss: 93.0785 - mae: 7.6465 - val_loss: 123.1088 - val_mae: 8.7021\n",
      "Epoch 98/100\n",
      "50/50 [==============================] - 0s 2ms/step - loss: 92.5474 - mae: 7.6244 - val_loss: 124.6756 - val_mae: 8.7259\n",
      "Epoch 99/100\n",
      "50/50 [==============================] - 0s 2ms/step - loss: 92.2506 - mae: 7.6156 - val_loss: 122.1795 - val_mae: 8.6343\n",
      "Epoch 100/100\n",
      "50/50 [==============================] - 0s 2ms/step - loss: 93.6509 - mae: 7.6659 - val_loss: 122.4813 - val_mae: 8.6230\n"
     ]
    }
   ],
   "source": [
    "hist = model.fit(xtrain, ytrain, validation_data=(xtest, ytest), epochs=100)"
   ]
  },
  {
   "cell_type": "markdown",
   "metadata": {},
   "source": [
    "### Visualizing the learning curve"
   ]
  },
  {
   "cell_type": "code",
   "execution_count": 28,
   "metadata": {},
   "outputs": [
    {
     "data": {
      "image/png": "[encoded data removed]",
      "text/plain": [
       "<Figure size 1000x500 with 1 Axes>"
      ]
     },
     "metadata": {},
     "output_type": "display_data"
    }
   ],
   "source": [
    "import matplotlib.pyplot as plt\n",
    "plt.figure(figsize=(10, 5))\n",
    "plt.plot(hist.history['loss'], label='Training Loss')\n",
    "plt.plot(hist.history['val_loss'], label='Testing Loss')\n",
    "plt.xlabel('Epochs')\n",
    "plt.ylabel('Mean Squared Error')\n",
    "plt.title('Learning Curve')\n",
    "plt.legend()\n",
    "plt.show()"
   ]
  },
  {
   "cell_type": "markdown",
   "metadata": {},
   "source": [
    "### Evaluate model in train and test"
   ]
  },
  {
   "cell_type": "code",
   "execution_count": 29,
   "metadata": {},
   "outputs": [
    {
     "name": "stdout",
     "output_type": "stream",
     "text": [
      "50/50 [==============================] - 0s 1ms/step - loss: 89.5955 - mae: 7.4967\n"
     ]
    },
    {
     "data": {
      "text/plain": [
       "[89.59552001953125, 7.496697425842285]"
      ]
     },
     "execution_count": 29,
     "metadata": {},
     "output_type": "execute_result"
    }
   ],
   "source": [
    "model.evaluate(xtrain, ytrain)"
   ]
  },
  {
   "cell_type": "code",
   "execution_count": 30,
   "metadata": {},
   "outputs": [
    {
     "name": "stdout",
     "output_type": "stream",
     "text": [
      "13/13 [==============================] - 0s 2ms/step - loss: 122.4813 - mae: 8.6230\n"
     ]
    },
    {
     "data": {
      "text/plain": [
       "[122.48129272460938, 8.623017311096191]"
      ]
     },
     "execution_count": 30,
     "metadata": {},
     "output_type": "execute_result"
    }
   ],
   "source": [
    "model.evaluate(xtest, ytest)"
   ]
  },
  {
   "cell_type": "markdown",
   "metadata": {},
   "source": [
    "### Predict the results for train and test"
   ]
  },
  {
   "cell_type": "code",
   "execution_count": 31,
   "metadata": {},
   "outputs": [
    {
     "name": "stdout",
     "output_type": "stream",
     "text": [
      "50/50 [==============================] - 0s 2ms/step\n",
      "13/13 [==============================] - 0s 3ms/step\n"
     ]
    }
   ],
   "source": [
    "ypred_tr = model.predict(xtrain)\n",
    "ypred_ts = model.predict(xtest)"
   ]
  },
  {
   "cell_type": "code",
   "execution_count": 32,
   "metadata": {},
   "outputs": [
    {
     "data": {
      "text/plain": [
       "array([[-361.69412  ],\n",
       "       [  12.6505785],\n",
       "       [ -52.817707 ],\n",
       "       [-231.51129  ],\n",
       "       [-210.11497  ]], dtype=float32)"
      ]
     },
     "execution_count": 32,
     "metadata": {},
     "output_type": "execute_result"
    }
   ],
   "source": [
    "ypred_tr[0:5]"
   ]
  },
  {
   "cell_type": "code",
   "execution_count": 33,
   "metadata": {},
   "outputs": [
    {
     "data": {
      "text/html": [
       "<div>\n",
       "<style scoped>\n",
       "    .dataframe tbody tr th:only-of-type {\n",
       "        vertical-align: middle;\n",
       "    }\n",
       "\n",
       "    .dataframe tbody tr th {\n",
       "        vertical-align: top;\n",
       "    }\n",
       "\n",
       "    .dataframe thead th {\n",
       "        text-align: right;\n",
       "    }\n",
       "</style>\n",
       "<table border=\"1\" class=\"dataframe\">\n",
       "  <thead>\n",
       "    <tr style=\"text-align: right;\">\n",
       "      <th></th>\n",
       "      <th>y</th>\n",
       "    </tr>\n",
       "  </thead>\n",
       "  <tbody>\n",
       "    <tr>\n",
       "      <th>1490</th>\n",
       "      <td>-356.925477</td>\n",
       "    </tr>\n",
       "    <tr>\n",
       "      <th>965</th>\n",
       "      <td>8.515626</td>\n",
       "    </tr>\n",
       "    <tr>\n",
       "      <th>1216</th>\n",
       "      <td>-44.958454</td>\n",
       "    </tr>\n",
       "    <tr>\n",
       "      <th>500</th>\n",
       "      <td>-218.346383</td>\n",
       "    </tr>\n",
       "    <tr>\n",
       "      <th>403</th>\n",
       "      <td>-211.774828</td>\n",
       "    </tr>\n",
       "  </tbody>\n",
       "</table>\n",
       "</div>"
      ],
      "text/plain": [
       "               y\n",
       "1490 -356.925477\n",
       "965     8.515626\n",
       "1216  -44.958454\n",
       "500  -218.346383\n",
       "403  -211.774828"
      ]
     },
     "execution_count": 33,
     "metadata": {},
     "output_type": "execute_result"
    }
   ],
   "source": [
    "ytrain.head()"
   ]
  },
  {
   "cell_type": "code",
   "execution_count": 35,
   "metadata": {},
   "outputs": [
    {
     "data": {
      "text/plain": [
       "array([[ -10.344335],\n",
       "       [  95.87256 ],\n",
       "       [ 272.18088 ],\n",
       "       [-177.0049  ],\n",
       "       [-209.45235 ]], dtype=float32)"
      ]
     },
     "execution_count": 35,
     "metadata": {},
     "output_type": "execute_result"
    }
   ],
   "source": [
    "ypred_ts[0:5]"
   ]
  },
  {
   "cell_type": "code",
   "execution_count": 36,
   "metadata": {},
   "outputs": [
    {
     "data": {
      "text/html": [
       "<div>\n",
       "<style scoped>\n",
       "    .dataframe tbody tr th:only-of-type {\n",
       "        vertical-align: middle;\n",
       "    }\n",
       "\n",
       "    .dataframe tbody tr th {\n",
       "        vertical-align: top;\n",
       "    }\n",
       "\n",
       "    .dataframe thead th {\n",
       "        text-align: right;\n",
       "    }\n",
       "</style>\n",
       "<table border=\"1\" class=\"dataframe\">\n",
       "  <thead>\n",
       "    <tr style=\"text-align: right;\">\n",
       "      <th></th>\n",
       "      <th>y</th>\n",
       "    </tr>\n",
       "  </thead>\n",
       "  <tbody>\n",
       "    <tr>\n",
       "      <th>541</th>\n",
       "      <td>-7.918092</td>\n",
       "    </tr>\n",
       "    <tr>\n",
       "      <th>1211</th>\n",
       "      <td>91.934687</td>\n",
       "    </tr>\n",
       "    <tr>\n",
       "      <th>1862</th>\n",
       "      <td>259.032574</td>\n",
       "    </tr>\n",
       "    <tr>\n",
       "      <th>1094</th>\n",
       "      <td>-191.626509</td>\n",
       "    </tr>\n",
       "    <tr>\n",
       "      <th>465</th>\n",
       "      <td>-196.558008</td>\n",
       "    </tr>\n",
       "  </tbody>\n",
       "</table>\n",
       "</div>"
      ],
      "text/plain": [
       "               y\n",
       "541    -7.918092\n",
       "1211   91.934687\n",
       "1862  259.032574\n",
       "1094 -191.626509\n",
       "465  -196.558008"
      ]
     },
     "execution_count": 36,
     "metadata": {},
     "output_type": "execute_result"
    }
   ],
   "source": [
    "ytest.head()"
   ]
  },
  {
   "cell_type": "markdown",
   "metadata": {},
   "source": [
    "### Get the r2 score for train and test"
   ]
  },
  {
   "cell_type": "code",
   "execution_count": 37,
   "metadata": {},
   "outputs": [],
   "source": [
    "from sklearn.metrics import r2_score"
   ]
  },
  {
   "cell_type": "code",
   "execution_count": 38,
   "metadata": {},
   "outputs": [
    {
     "data": {
      "text/plain": [
       "0.9972889937708556"
      ]
     },
     "execution_count": 38,
     "metadata": {},
     "output_type": "execute_result"
    }
   ],
   "source": [
    "r2_score(ytrain, ypred_tr)"
   ]
  },
  {
   "cell_type": "code",
   "execution_count": 39,
   "metadata": {},
   "outputs": [
    {
     "data": {
      "text/plain": [
       "0.9962075755757095"
      ]
     },
     "execution_count": 39,
     "metadata": {},
     "output_type": "execute_result"
    }
   ],
   "source": [
    "r2_score(ytest, ypred_ts)"
   ]
  },
  {
   "cell_type": "markdown",
   "metadata": {},
   "source": [
    "### In regression if R2 scores >= 0.8 then you have created a good model"
   ]
  }
 ],
 "metadata": {
  "kernelspec": {
   "display_name": "venv",
   "language": "python",
   "name": "python3"
  },
  "language_info": {
   "codemirror_mode": {
    "name": "ipython",
    "version": 3
   },
   "file_extension": ".py",
   "mimetype": "text/x-python",
   "name": "python",
   "nbconvert_exporter": "python",
   "pygments_lexer": "ipython3",
   "version": "3.11.7"
  }
 },
 "nbformat": 4,
 "nbformat_minor": 2
}

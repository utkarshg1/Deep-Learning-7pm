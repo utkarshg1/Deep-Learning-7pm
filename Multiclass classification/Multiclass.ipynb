{
 "cells": [
  {
   "cell_type": "markdown",
   "metadata": {},
   "source": [
    "# Multiclass classification"
   ]
  },
  {
   "cell_type": "code",
   "execution_count": 1,
   "metadata": {},
   "outputs": [],
   "source": [
    "from warnings import filterwarnings\n",
    "filterwarnings('ignore')"
   ]
  },
  {
   "cell_type": "markdown",
   "metadata": {},
   "source": [
    "### Read the train dataset"
   ]
  },
  {
   "cell_type": "code",
   "execution_count": 2,
   "metadata": {},
   "outputs": [
    {
     "data": {
      "text/html": [
       "<div>\n",
       "<style scoped>\n",
       "    .dataframe tbody tr th:only-of-type {\n",
       "        vertical-align: middle;\n",
       "    }\n",
       "\n",
       "    .dataframe tbody tr th {\n",
       "        vertical-align: top;\n",
       "    }\n",
       "\n",
       "    .dataframe thead th {\n",
       "        text-align: right;\n",
       "    }\n",
       "</style>\n",
       "<table border=\"1\" class=\"dataframe\">\n",
       "  <thead>\n",
       "    <tr style=\"text-align: right;\">\n",
       "      <th></th>\n",
       "      <th>id</th>\n",
       "      <th>Gender</th>\n",
       "      <th>Age</th>\n",
       "      <th>Height</th>\n",
       "      <th>Weight</th>\n",
       "      <th>family_history_with_overweight</th>\n",
       "      <th>FAVC</th>\n",
       "      <th>FCVC</th>\n",
       "      <th>NCP</th>\n",
       "      <th>CAEC</th>\n",
       "      <th>SMOKE</th>\n",
       "      <th>CH2O</th>\n",
       "      <th>SCC</th>\n",
       "      <th>FAF</th>\n",
       "      <th>TUE</th>\n",
       "      <th>CALC</th>\n",
       "      <th>MTRANS</th>\n",
       "      <th>NObeyesdad</th>\n",
       "    </tr>\n",
       "  </thead>\n",
       "  <tbody>\n",
       "    <tr>\n",
       "      <th>0</th>\n",
       "      <td>0</td>\n",
       "      <td>Male</td>\n",
       "      <td>24.443011</td>\n",
       "      <td>1.699998</td>\n",
       "      <td>81.669950</td>\n",
       "      <td>yes</td>\n",
       "      <td>yes</td>\n",
       "      <td>2.000000</td>\n",
       "      <td>2.983297</td>\n",
       "      <td>Sometimes</td>\n",
       "      <td>no</td>\n",
       "      <td>2.763573</td>\n",
       "      <td>no</td>\n",
       "      <td>0.000000</td>\n",
       "      <td>0.976473</td>\n",
       "      <td>Sometimes</td>\n",
       "      <td>Public_Transportation</td>\n",
       "      <td>Overweight_Level_II</td>\n",
       "    </tr>\n",
       "    <tr>\n",
       "      <th>1</th>\n",
       "      <td>1</td>\n",
       "      <td>Female</td>\n",
       "      <td>18.000000</td>\n",
       "      <td>1.560000</td>\n",
       "      <td>57.000000</td>\n",
       "      <td>yes</td>\n",
       "      <td>yes</td>\n",
       "      <td>2.000000</td>\n",
       "      <td>3.000000</td>\n",
       "      <td>Frequently</td>\n",
       "      <td>no</td>\n",
       "      <td>2.000000</td>\n",
       "      <td>no</td>\n",
       "      <td>1.000000</td>\n",
       "      <td>1.000000</td>\n",
       "      <td>no</td>\n",
       "      <td>Automobile</td>\n",
       "      <td>Normal_Weight</td>\n",
       "    </tr>\n",
       "    <tr>\n",
       "      <th>2</th>\n",
       "      <td>2</td>\n",
       "      <td>Female</td>\n",
       "      <td>18.000000</td>\n",
       "      <td>1.711460</td>\n",
       "      <td>50.165754</td>\n",
       "      <td>yes</td>\n",
       "      <td>yes</td>\n",
       "      <td>1.880534</td>\n",
       "      <td>1.411685</td>\n",
       "      <td>Sometimes</td>\n",
       "      <td>no</td>\n",
       "      <td>1.910378</td>\n",
       "      <td>no</td>\n",
       "      <td>0.866045</td>\n",
       "      <td>1.673584</td>\n",
       "      <td>no</td>\n",
       "      <td>Public_Transportation</td>\n",
       "      <td>Insufficient_Weight</td>\n",
       "    </tr>\n",
       "    <tr>\n",
       "      <th>3</th>\n",
       "      <td>3</td>\n",
       "      <td>Female</td>\n",
       "      <td>20.952737</td>\n",
       "      <td>1.710730</td>\n",
       "      <td>131.274851</td>\n",
       "      <td>yes</td>\n",
       "      <td>yes</td>\n",
       "      <td>3.000000</td>\n",
       "      <td>3.000000</td>\n",
       "      <td>Sometimes</td>\n",
       "      <td>no</td>\n",
       "      <td>1.674061</td>\n",
       "      <td>no</td>\n",
       "      <td>1.467863</td>\n",
       "      <td>0.780199</td>\n",
       "      <td>Sometimes</td>\n",
       "      <td>Public_Transportation</td>\n",
       "      <td>Obesity_Type_III</td>\n",
       "    </tr>\n",
       "    <tr>\n",
       "      <th>4</th>\n",
       "      <td>4</td>\n",
       "      <td>Male</td>\n",
       "      <td>31.641081</td>\n",
       "      <td>1.914186</td>\n",
       "      <td>93.798055</td>\n",
       "      <td>yes</td>\n",
       "      <td>yes</td>\n",
       "      <td>2.679664</td>\n",
       "      <td>1.971472</td>\n",
       "      <td>Sometimes</td>\n",
       "      <td>no</td>\n",
       "      <td>1.979848</td>\n",
       "      <td>no</td>\n",
       "      <td>1.967973</td>\n",
       "      <td>0.931721</td>\n",
       "      <td>Sometimes</td>\n",
       "      <td>Public_Transportation</td>\n",
       "      <td>Overweight_Level_II</td>\n",
       "    </tr>\n",
       "  </tbody>\n",
       "</table>\n",
       "</div>"
      ],
      "text/plain": [
       "   id  Gender        Age    Height      Weight family_history_with_overweight  \\\n",
       "0   0    Male  24.443011  1.699998   81.669950                            yes   \n",
       "1   1  Female  18.000000  1.560000   57.000000                            yes   \n",
       "2   2  Female  18.000000  1.711460   50.165754                            yes   \n",
       "3   3  Female  20.952737  1.710730  131.274851                            yes   \n",
       "4   4    Male  31.641081  1.914186   93.798055                            yes   \n",
       "\n",
       "  FAVC      FCVC       NCP        CAEC SMOKE      CH2O SCC       FAF  \\\n",
       "0  yes  2.000000  2.983297   Sometimes    no  2.763573  no  0.000000   \n",
       "1  yes  2.000000  3.000000  Frequently    no  2.000000  no  1.000000   \n",
       "2  yes  1.880534  1.411685   Sometimes    no  1.910378  no  0.866045   \n",
       "3  yes  3.000000  3.000000   Sometimes    no  1.674061  no  1.467863   \n",
       "4  yes  2.679664  1.971472   Sometimes    no  1.979848  no  1.967973   \n",
       "\n",
       "        TUE       CALC                 MTRANS           NObeyesdad  \n",
       "0  0.976473  Sometimes  Public_Transportation  Overweight_Level_II  \n",
       "1  1.000000         no             Automobile        Normal_Weight  \n",
       "2  1.673584         no  Public_Transportation  Insufficient_Weight  \n",
       "3  0.780199  Sometimes  Public_Transportation     Obesity_Type_III  \n",
       "4  0.931721  Sometimes  Public_Transportation  Overweight_Level_II  "
      ]
     },
     "execution_count": 2,
     "metadata": {},
     "output_type": "execute_result"
    }
   ],
   "source": [
    "import pandas as pd \n",
    "df = pd.read_csv('train.csv')\n",
    "df.head()"
   ]
  },
  {
   "cell_type": "code",
   "execution_count": 3,
   "metadata": {},
   "outputs": [
    {
     "name": "stdout",
     "output_type": "stream",
     "text": [
      "<class 'pandas.core.frame.DataFrame'>\n",
      "RangeIndex: 20758 entries, 0 to 20757\n",
      "Data columns (total 18 columns):\n",
      " #   Column                          Non-Null Count  Dtype  \n",
      "---  ------                          --------------  -----  \n",
      " 0   id                              20758 non-null  int64  \n",
      " 1   Gender                          20758 non-null  object \n",
      " 2   Age                             20758 non-null  float64\n",
      " 3   Height                          20758 non-null  float64\n",
      " 4   Weight                          20758 non-null  float64\n",
      " 5   family_history_with_overweight  20758 non-null  object \n",
      " 6   FAVC                            20758 non-null  object \n",
      " 7   FCVC                            20758 non-null  float64\n",
      " 8   NCP                             20758 non-null  float64\n",
      " 9   CAEC                            20758 non-null  object \n",
      " 10  SMOKE                           20758 non-null  object \n",
      " 11  CH2O                            20758 non-null  float64\n",
      " 12  SCC                             20758 non-null  object \n",
      " 13  FAF                             20758 non-null  float64\n",
      " 14  TUE                             20758 non-null  float64\n",
      " 15  CALC                            20758 non-null  object \n",
      " 16  MTRANS                          20758 non-null  object \n",
      " 17  NObeyesdad                      20758 non-null  object \n",
      "dtypes: float64(8), int64(1), object(9)\n",
      "memory usage: 2.9+ MB\n"
     ]
    }
   ],
   "source": [
    "df.info()"
   ]
  },
  {
   "cell_type": "code",
   "execution_count": 4,
   "metadata": {},
   "outputs": [
    {
     "data": {
      "text/plain": [
       "id                                0\n",
       "Gender                            0\n",
       "Age                               0\n",
       "Height                            0\n",
       "Weight                            0\n",
       "family_history_with_overweight    0\n",
       "FAVC                              0\n",
       "FCVC                              0\n",
       "NCP                               0\n",
       "CAEC                              0\n",
       "SMOKE                             0\n",
       "CH2O                              0\n",
       "SCC                               0\n",
       "FAF                               0\n",
       "TUE                               0\n",
       "CALC                              0\n",
       "MTRANS                            0\n",
       "NObeyesdad                        0\n",
       "dtype: int64"
      ]
     },
     "execution_count": 4,
     "metadata": {},
     "output_type": "execute_result"
    }
   ],
   "source": [
    "df.isna().sum()"
   ]
  },
  {
   "cell_type": "code",
   "execution_count": 5,
   "metadata": {},
   "outputs": [
    {
     "data": {
      "text/plain": [
       "0"
      ]
     },
     "execution_count": 5,
     "metadata": {},
     "output_type": "execute_result"
    }
   ],
   "source": [
    "df.duplicated().sum()"
   ]
  },
  {
   "cell_type": "markdown",
   "metadata": {},
   "source": [
    "### Seperate X and Y"
   ]
  },
  {
   "cell_type": "code",
   "execution_count": 6,
   "metadata": {},
   "outputs": [],
   "source": [
    "X = df.drop(columns=['id', 'NObeyesdad'])\n",
    "Y = df[['NObeyesdad']]"
   ]
  },
  {
   "cell_type": "code",
   "execution_count": 7,
   "metadata": {},
   "outputs": [
    {
     "data": {
      "text/html": [
       "<div>\n",
       "<style scoped>\n",
       "    .dataframe tbody tr th:only-of-type {\n",
       "        vertical-align: middle;\n",
       "    }\n",
       "\n",
       "    .dataframe tbody tr th {\n",
       "        vertical-align: top;\n",
       "    }\n",
       "\n",
       "    .dataframe thead th {\n",
       "        text-align: right;\n",
       "    }\n",
       "</style>\n",
       "<table border=\"1\" class=\"dataframe\">\n",
       "  <thead>\n",
       "    <tr style=\"text-align: right;\">\n",
       "      <th></th>\n",
       "      <th>Gender</th>\n",
       "      <th>Age</th>\n",
       "      <th>Height</th>\n",
       "      <th>Weight</th>\n",
       "      <th>family_history_with_overweight</th>\n",
       "      <th>FAVC</th>\n",
       "      <th>FCVC</th>\n",
       "      <th>NCP</th>\n",
       "      <th>CAEC</th>\n",
       "      <th>SMOKE</th>\n",
       "      <th>CH2O</th>\n",
       "      <th>SCC</th>\n",
       "      <th>FAF</th>\n",
       "      <th>TUE</th>\n",
       "      <th>CALC</th>\n",
       "      <th>MTRANS</th>\n",
       "    </tr>\n",
       "  </thead>\n",
       "  <tbody>\n",
       "    <tr>\n",
       "      <th>0</th>\n",
       "      <td>Male</td>\n",
       "      <td>24.443011</td>\n",
       "      <td>1.699998</td>\n",
       "      <td>81.669950</td>\n",
       "      <td>yes</td>\n",
       "      <td>yes</td>\n",
       "      <td>2.000000</td>\n",
       "      <td>2.983297</td>\n",
       "      <td>Sometimes</td>\n",
       "      <td>no</td>\n",
       "      <td>2.763573</td>\n",
       "      <td>no</td>\n",
       "      <td>0.000000</td>\n",
       "      <td>0.976473</td>\n",
       "      <td>Sometimes</td>\n",
       "      <td>Public_Transportation</td>\n",
       "    </tr>\n",
       "    <tr>\n",
       "      <th>1</th>\n",
       "      <td>Female</td>\n",
       "      <td>18.000000</td>\n",
       "      <td>1.560000</td>\n",
       "      <td>57.000000</td>\n",
       "      <td>yes</td>\n",
       "      <td>yes</td>\n",
       "      <td>2.000000</td>\n",
       "      <td>3.000000</td>\n",
       "      <td>Frequently</td>\n",
       "      <td>no</td>\n",
       "      <td>2.000000</td>\n",
       "      <td>no</td>\n",
       "      <td>1.000000</td>\n",
       "      <td>1.000000</td>\n",
       "      <td>no</td>\n",
       "      <td>Automobile</td>\n",
       "    </tr>\n",
       "    <tr>\n",
       "      <th>2</th>\n",
       "      <td>Female</td>\n",
       "      <td>18.000000</td>\n",
       "      <td>1.711460</td>\n",
       "      <td>50.165754</td>\n",
       "      <td>yes</td>\n",
       "      <td>yes</td>\n",
       "      <td>1.880534</td>\n",
       "      <td>1.411685</td>\n",
       "      <td>Sometimes</td>\n",
       "      <td>no</td>\n",
       "      <td>1.910378</td>\n",
       "      <td>no</td>\n",
       "      <td>0.866045</td>\n",
       "      <td>1.673584</td>\n",
       "      <td>no</td>\n",
       "      <td>Public_Transportation</td>\n",
       "    </tr>\n",
       "    <tr>\n",
       "      <th>3</th>\n",
       "      <td>Female</td>\n",
       "      <td>20.952737</td>\n",
       "      <td>1.710730</td>\n",
       "      <td>131.274851</td>\n",
       "      <td>yes</td>\n",
       "      <td>yes</td>\n",
       "      <td>3.000000</td>\n",
       "      <td>3.000000</td>\n",
       "      <td>Sometimes</td>\n",
       "      <td>no</td>\n",
       "      <td>1.674061</td>\n",
       "      <td>no</td>\n",
       "      <td>1.467863</td>\n",
       "      <td>0.780199</td>\n",
       "      <td>Sometimes</td>\n",
       "      <td>Public_Transportation</td>\n",
       "    </tr>\n",
       "    <tr>\n",
       "      <th>4</th>\n",
       "      <td>Male</td>\n",
       "      <td>31.641081</td>\n",
       "      <td>1.914186</td>\n",
       "      <td>93.798055</td>\n",
       "      <td>yes</td>\n",
       "      <td>yes</td>\n",
       "      <td>2.679664</td>\n",
       "      <td>1.971472</td>\n",
       "      <td>Sometimes</td>\n",
       "      <td>no</td>\n",
       "      <td>1.979848</td>\n",
       "      <td>no</td>\n",
       "      <td>1.967973</td>\n",
       "      <td>0.931721</td>\n",
       "      <td>Sometimes</td>\n",
       "      <td>Public_Transportation</td>\n",
       "    </tr>\n",
       "  </tbody>\n",
       "</table>\n",
       "</div>"
      ],
      "text/plain": [
       "   Gender        Age    Height      Weight family_history_with_overweight  \\\n",
       "0    Male  24.443011  1.699998   81.669950                            yes   \n",
       "1  Female  18.000000  1.560000   57.000000                            yes   \n",
       "2  Female  18.000000  1.711460   50.165754                            yes   \n",
       "3  Female  20.952737  1.710730  131.274851                            yes   \n",
       "4    Male  31.641081  1.914186   93.798055                            yes   \n",
       "\n",
       "  FAVC      FCVC       NCP        CAEC SMOKE      CH2O SCC       FAF  \\\n",
       "0  yes  2.000000  2.983297   Sometimes    no  2.763573  no  0.000000   \n",
       "1  yes  2.000000  3.000000  Frequently    no  2.000000  no  1.000000   \n",
       "2  yes  1.880534  1.411685   Sometimes    no  1.910378  no  0.866045   \n",
       "3  yes  3.000000  3.000000   Sometimes    no  1.674061  no  1.467863   \n",
       "4  yes  2.679664  1.971472   Sometimes    no  1.979848  no  1.967973   \n",
       "\n",
       "        TUE       CALC                 MTRANS  \n",
       "0  0.976473  Sometimes  Public_Transportation  \n",
       "1  1.000000         no             Automobile  \n",
       "2  1.673584         no  Public_Transportation  \n",
       "3  0.780199  Sometimes  Public_Transportation  \n",
       "4  0.931721  Sometimes  Public_Transportation  "
      ]
     },
     "execution_count": 7,
     "metadata": {},
     "output_type": "execute_result"
    }
   ],
   "source": [
    "X.head()"
   ]
  },
  {
   "cell_type": "code",
   "execution_count": 8,
   "metadata": {},
   "outputs": [
    {
     "data": {
      "text/html": [
       "<div>\n",
       "<style scoped>\n",
       "    .dataframe tbody tr th:only-of-type {\n",
       "        vertical-align: middle;\n",
       "    }\n",
       "\n",
       "    .dataframe tbody tr th {\n",
       "        vertical-align: top;\n",
       "    }\n",
       "\n",
       "    .dataframe thead th {\n",
       "        text-align: right;\n",
       "    }\n",
       "</style>\n",
       "<table border=\"1\" class=\"dataframe\">\n",
       "  <thead>\n",
       "    <tr style=\"text-align: right;\">\n",
       "      <th></th>\n",
       "      <th>NObeyesdad</th>\n",
       "    </tr>\n",
       "  </thead>\n",
       "  <tbody>\n",
       "    <tr>\n",
       "      <th>0</th>\n",
       "      <td>Overweight_Level_II</td>\n",
       "    </tr>\n",
       "    <tr>\n",
       "      <th>1</th>\n",
       "      <td>Normal_Weight</td>\n",
       "    </tr>\n",
       "    <tr>\n",
       "      <th>2</th>\n",
       "      <td>Insufficient_Weight</td>\n",
       "    </tr>\n",
       "    <tr>\n",
       "      <th>3</th>\n",
       "      <td>Obesity_Type_III</td>\n",
       "    </tr>\n",
       "    <tr>\n",
       "      <th>4</th>\n",
       "      <td>Overweight_Level_II</td>\n",
       "    </tr>\n",
       "  </tbody>\n",
       "</table>\n",
       "</div>"
      ],
      "text/plain": [
       "            NObeyesdad\n",
       "0  Overweight_Level_II\n",
       "1        Normal_Weight\n",
       "2  Insufficient_Weight\n",
       "3     Obesity_Type_III\n",
       "4  Overweight_Level_II"
      ]
     },
     "execution_count": 8,
     "metadata": {},
     "output_type": "execute_result"
    }
   ],
   "source": [
    "Y.head()"
   ]
  },
  {
   "cell_type": "code",
   "execution_count": 9,
   "metadata": {},
   "outputs": [
    {
     "data": {
      "text/plain": [
       "NObeyesdad         \n",
       "Obesity_Type_III       4046\n",
       "Obesity_Type_II        3248\n",
       "Normal_Weight          3082\n",
       "Obesity_Type_I         2910\n",
       "Insufficient_Weight    2523\n",
       "Overweight_Level_II    2522\n",
       "Overweight_Level_I     2427\n",
       "Name: count, dtype: int64"
      ]
     },
     "execution_count": 9,
     "metadata": {},
     "output_type": "execute_result"
    }
   ],
   "source": [
    "Y.value_counts()"
   ]
  },
  {
   "cell_type": "code",
   "execution_count": 10,
   "metadata": {},
   "outputs": [
    {
     "data": {
      "text/plain": [
       "<Axes: xlabel='NObeyesdad'>"
      ]
     },
     "execution_count": 10,
     "metadata": {},
     "output_type": "execute_result"
    },
    {
     "data": {
      "image/png": "[encoded data removed]",
      "text/plain": [
       "<Figure size 640x480 with 1 Axes>"
      ]
     },
     "metadata": {},
     "output_type": "display_data"
    }
   ],
   "source": [
    "Y.value_counts().plot(kind='bar')"
   ]
  },
  {
   "cell_type": "markdown",
   "metadata": {},
   "source": [
    "### Seperate categorical and continuous features"
   ]
  },
  {
   "cell_type": "code",
   "execution_count": 11,
   "metadata": {},
   "outputs": [],
   "source": [
    "cat = list(X.columns[X.dtypes=='object'])\n",
    "con = list(X.columns[X.dtypes!='object'])"
   ]
  },
  {
   "cell_type": "code",
   "execution_count": 12,
   "metadata": {},
   "outputs": [
    {
     "data": {
      "text/plain": [
       "['Gender',\n",
       " 'family_history_with_overweight',\n",
       " 'FAVC',\n",
       " 'CAEC',\n",
       " 'SMOKE',\n",
       " 'SCC',\n",
       " 'CALC',\n",
       " 'MTRANS']"
      ]
     },
     "execution_count": 12,
     "metadata": {},
     "output_type": "execute_result"
    }
   ],
   "source": [
    "cat"
   ]
  },
  {
   "cell_type": "code",
   "execution_count": 13,
   "metadata": {},
   "outputs": [
    {
     "data": {
      "text/plain": [
       "['Age', 'Height', 'Weight', 'FCVC', 'NCP', 'CH2O', 'FAF', 'TUE']"
      ]
     },
     "execution_count": 13,
     "metadata": {},
     "output_type": "execute_result"
    }
   ],
   "source": [
    "con"
   ]
  },
  {
   "cell_type": "markdown",
   "metadata": {},
   "source": [
    "### Create a scikit learn pipeline for preprocessing"
   ]
  },
  {
   "cell_type": "code",
   "execution_count": 14,
   "metadata": {},
   "outputs": [],
   "source": [
    "from sklearn.pipeline import Pipeline\n",
    "from sklearn.impute import SimpleImputer\n",
    "from sklearn.preprocessing import StandardScaler, OneHotEncoder\n",
    "from sklearn.compose import ColumnTransformer"
   ]
  },
  {
   "cell_type": "code",
   "execution_count": 15,
   "metadata": {},
   "outputs": [],
   "source": [
    "num_pipe = Pipeline(steps=[('impute', SimpleImputer(strategy='mean')),\n",
    "                           ('scaler', StandardScaler())])"
   ]
  },
  {
   "cell_type": "code",
   "execution_count": 16,
   "metadata": {},
   "outputs": [],
   "source": [
    "cat_pipe = Pipeline(steps=[('impute', SimpleImputer(strategy='most_frequent')),\n",
    "                           ('ohe', OneHotEncoder(handle_unknown='ignore', sparse_output=False))])"
   ]
  },
  {
   "cell_type": "code",
   "execution_count": 17,
   "metadata": {},
   "outputs": [],
   "source": [
    "pre = ColumnTransformer([('con', num_pipe, con),\n",
    "                         ('cat', cat_pipe, cat)]).set_output(transform='pandas')"
   ]
  },
  {
   "cell_type": "code",
   "execution_count": 18,
   "metadata": {},
   "outputs": [
    {
     "data": {
      "text/html": [
       "<div>\n",
       "<style scoped>\n",
       "    .dataframe tbody tr th:only-of-type {\n",
       "        vertical-align: middle;\n",
       "    }\n",
       "\n",
       "    .dataframe tbody tr th {\n",
       "        vertical-align: top;\n",
       "    }\n",
       "\n",
       "    .dataframe thead th {\n",
       "        text-align: right;\n",
       "    }\n",
       "</style>\n",
       "<table border=\"1\" class=\"dataframe\">\n",
       "  <thead>\n",
       "    <tr style=\"text-align: right;\">\n",
       "      <th></th>\n",
       "      <th>con__Age</th>\n",
       "      <th>con__Height</th>\n",
       "      <th>con__Weight</th>\n",
       "      <th>con__FCVC</th>\n",
       "      <th>con__NCP</th>\n",
       "      <th>con__CH2O</th>\n",
       "      <th>con__FAF</th>\n",
       "      <th>con__TUE</th>\n",
       "      <th>cat__Gender_Female</th>\n",
       "      <th>cat__Gender_Male</th>\n",
       "      <th>...</th>\n",
       "      <th>cat__SCC_no</th>\n",
       "      <th>cat__SCC_yes</th>\n",
       "      <th>cat__CALC_Frequently</th>\n",
       "      <th>cat__CALC_Sometimes</th>\n",
       "      <th>cat__CALC_no</th>\n",
       "      <th>cat__MTRANS_Automobile</th>\n",
       "      <th>cat__MTRANS_Bike</th>\n",
       "      <th>cat__MTRANS_Motorbike</th>\n",
       "      <th>cat__MTRANS_Public_Transportation</th>\n",
       "      <th>cat__MTRANS_Walking</th>\n",
       "    </tr>\n",
       "  </thead>\n",
       "  <tbody>\n",
       "    <tr>\n",
       "      <th>0</th>\n",
       "      <td>0.105699</td>\n",
       "      <td>-0.002828</td>\n",
       "      <td>-0.235713</td>\n",
       "      <td>-0.836279</td>\n",
       "      <td>0.314684</td>\n",
       "      <td>1.206594</td>\n",
       "      <td>-1.171141</td>\n",
       "      <td>0.597438</td>\n",
       "      <td>0.0</td>\n",
       "      <td>1.0</td>\n",
       "      <td>...</td>\n",
       "      <td>1.0</td>\n",
       "      <td>0.0</td>\n",
       "      <td>0.0</td>\n",
       "      <td>1.0</td>\n",
       "      <td>0.0</td>\n",
       "      <td>0.0</td>\n",
       "      <td>0.0</td>\n",
       "      <td>0.0</td>\n",
       "      <td>1.0</td>\n",
       "      <td>0.0</td>\n",
       "    </tr>\n",
       "    <tr>\n",
       "      <th>1</th>\n",
       "      <td>-1.027052</td>\n",
       "      <td>-1.606291</td>\n",
       "      <td>-1.170931</td>\n",
       "      <td>-0.836279</td>\n",
       "      <td>0.338364</td>\n",
       "      <td>-0.048349</td>\n",
       "      <td>0.021775</td>\n",
       "      <td>0.636513</td>\n",
       "      <td>1.0</td>\n",
       "      <td>0.0</td>\n",
       "      <td>...</td>\n",
       "      <td>1.0</td>\n",
       "      <td>0.0</td>\n",
       "      <td>0.0</td>\n",
       "      <td>0.0</td>\n",
       "      <td>1.0</td>\n",
       "      <td>1.0</td>\n",
       "      <td>0.0</td>\n",
       "      <td>0.0</td>\n",
       "      <td>0.0</td>\n",
       "      <td>0.0</td>\n",
       "    </tr>\n",
       "    <tr>\n",
       "      <th>2</th>\n",
       "      <td>-1.027052</td>\n",
       "      <td>0.128451</td>\n",
       "      <td>-1.430012</td>\n",
       "      <td>-1.060332</td>\n",
       "      <td>-1.913423</td>\n",
       "      <td>-0.195644</td>\n",
       "      <td>-0.138022</td>\n",
       "      <td>1.755239</td>\n",
       "      <td>1.0</td>\n",
       "      <td>0.0</td>\n",
       "      <td>...</td>\n",
       "      <td>1.0</td>\n",
       "      <td>0.0</td>\n",
       "      <td>0.0</td>\n",
       "      <td>0.0</td>\n",
       "      <td>1.0</td>\n",
       "      <td>0.0</td>\n",
       "      <td>0.0</td>\n",
       "      <td>0.0</td>\n",
       "      <td>1.0</td>\n",
       "      <td>0.0</td>\n",
       "    </tr>\n",
       "    <tr>\n",
       "      <th>3</th>\n",
       "      <td>-0.507929</td>\n",
       "      <td>0.120090</td>\n",
       "      <td>1.644770</td>\n",
       "      <td>1.039171</td>\n",
       "      <td>0.338364</td>\n",
       "      <td>-0.584035</td>\n",
       "      <td>0.579896</td>\n",
       "      <td>0.271455</td>\n",
       "      <td>1.0</td>\n",
       "      <td>0.0</td>\n",
       "      <td>...</td>\n",
       "      <td>1.0</td>\n",
       "      <td>0.0</td>\n",
       "      <td>0.0</td>\n",
       "      <td>1.0</td>\n",
       "      <td>0.0</td>\n",
       "      <td>0.0</td>\n",
       "      <td>0.0</td>\n",
       "      <td>0.0</td>\n",
       "      <td>1.0</td>\n",
       "      <td>0.0</td>\n",
       "    </tr>\n",
       "    <tr>\n",
       "      <th>4</th>\n",
       "      <td>1.371197</td>\n",
       "      <td>2.450367</td>\n",
       "      <td>0.224054</td>\n",
       "      <td>0.438397</td>\n",
       "      <td>-1.119801</td>\n",
       "      <td>-0.081469</td>\n",
       "      <td>1.176486</td>\n",
       "      <td>0.523111</td>\n",
       "      <td>0.0</td>\n",
       "      <td>1.0</td>\n",
       "      <td>...</td>\n",
       "      <td>1.0</td>\n",
       "      <td>0.0</td>\n",
       "      <td>0.0</td>\n",
       "      <td>1.0</td>\n",
       "      <td>0.0</td>\n",
       "      <td>0.0</td>\n",
       "      <td>0.0</td>\n",
       "      <td>0.0</td>\n",
       "      <td>1.0</td>\n",
       "      <td>0.0</td>\n",
       "    </tr>\n",
       "  </tbody>\n",
       "</table>\n",
       "<p>5 rows × 30 columns</p>\n",
       "</div>"
      ],
      "text/plain": [
       "   con__Age  con__Height  con__Weight  con__FCVC  con__NCP  con__CH2O  \\\n",
       "0  0.105699    -0.002828    -0.235713  -0.836279  0.314684   1.206594   \n",
       "1 -1.027052    -1.606291    -1.170931  -0.836279  0.338364  -0.048349   \n",
       "2 -1.027052     0.128451    -1.430012  -1.060332 -1.913423  -0.195644   \n",
       "3 -0.507929     0.120090     1.644770   1.039171  0.338364  -0.584035   \n",
       "4  1.371197     2.450367     0.224054   0.438397 -1.119801  -0.081469   \n",
       "\n",
       "   con__FAF  con__TUE  cat__Gender_Female  cat__Gender_Male  ...  cat__SCC_no  \\\n",
       "0 -1.171141  0.597438                 0.0               1.0  ...          1.0   \n",
       "1  0.021775  0.636513                 1.0               0.0  ...          1.0   \n",
       "2 -0.138022  1.755239                 1.0               0.0  ...          1.0   \n",
       "3  0.579896  0.271455                 1.0               0.0  ...          1.0   \n",
       "4  1.176486  0.523111                 0.0               1.0  ...          1.0   \n",
       "\n",
       "   cat__SCC_yes  cat__CALC_Frequently  cat__CALC_Sometimes  cat__CALC_no  \\\n",
       "0           0.0                   0.0                  1.0           0.0   \n",
       "1           0.0                   0.0                  0.0           1.0   \n",
       "2           0.0                   0.0                  0.0           1.0   \n",
       "3           0.0                   0.0                  1.0           0.0   \n",
       "4           0.0                   0.0                  1.0           0.0   \n",
       "\n",
       "   cat__MTRANS_Automobile  cat__MTRANS_Bike  cat__MTRANS_Motorbike  \\\n",
       "0                     0.0               0.0                    0.0   \n",
       "1                     1.0               0.0                    0.0   \n",
       "2                     0.0               0.0                    0.0   \n",
       "3                     0.0               0.0                    0.0   \n",
       "4                     0.0               0.0                    0.0   \n",
       "\n",
       "   cat__MTRANS_Public_Transportation  cat__MTRANS_Walking  \n",
       "0                                1.0                  0.0  \n",
       "1                                0.0                  0.0  \n",
       "2                                1.0                  0.0  \n",
       "3                                1.0                  0.0  \n",
       "4                                1.0                  0.0  \n",
       "\n",
       "[5 rows x 30 columns]"
      ]
     },
     "execution_count": 18,
     "metadata": {},
     "output_type": "execute_result"
    }
   ],
   "source": [
    "X_pre = pre.fit_transform(X)\n",
    "X_pre.head()"
   ]
  },
  {
   "cell_type": "markdown",
   "metadata": {},
   "source": [
    "### Apply ordinal encoder on Y data"
   ]
  },
  {
   "cell_type": "code",
   "execution_count": 19,
   "metadata": {},
   "outputs": [
    {
     "data": {
      "text/html": [
       "<div>\n",
       "<style scoped>\n",
       "    .dataframe tbody tr th:only-of-type {\n",
       "        vertical-align: middle;\n",
       "    }\n",
       "\n",
       "    .dataframe tbody tr th {\n",
       "        vertical-align: top;\n",
       "    }\n",
       "\n",
       "    .dataframe thead th {\n",
       "        text-align: right;\n",
       "    }\n",
       "</style>\n",
       "<table border=\"1\" class=\"dataframe\">\n",
       "  <thead>\n",
       "    <tr style=\"text-align: right;\">\n",
       "      <th></th>\n",
       "      <th>NObeyesdad</th>\n",
       "    </tr>\n",
       "  </thead>\n",
       "  <tbody>\n",
       "    <tr>\n",
       "      <th>0</th>\n",
       "      <td>6.0</td>\n",
       "    </tr>\n",
       "    <tr>\n",
       "      <th>1</th>\n",
       "      <td>1.0</td>\n",
       "    </tr>\n",
       "    <tr>\n",
       "      <th>2</th>\n",
       "      <td>0.0</td>\n",
       "    </tr>\n",
       "    <tr>\n",
       "      <th>3</th>\n",
       "      <td>4.0</td>\n",
       "    </tr>\n",
       "    <tr>\n",
       "      <th>4</th>\n",
       "      <td>6.0</td>\n",
       "    </tr>\n",
       "    <tr>\n",
       "      <th>...</th>\n",
       "      <td>...</td>\n",
       "    </tr>\n",
       "    <tr>\n",
       "      <th>20753</th>\n",
       "      <td>3.0</td>\n",
       "    </tr>\n",
       "    <tr>\n",
       "      <th>20754</th>\n",
       "      <td>0.0</td>\n",
       "    </tr>\n",
       "    <tr>\n",
       "      <th>20755</th>\n",
       "      <td>3.0</td>\n",
       "    </tr>\n",
       "    <tr>\n",
       "      <th>20756</th>\n",
       "      <td>6.0</td>\n",
       "    </tr>\n",
       "    <tr>\n",
       "      <th>20757</th>\n",
       "      <td>3.0</td>\n",
       "    </tr>\n",
       "  </tbody>\n",
       "</table>\n",
       "<p>20758 rows × 1 columns</p>\n",
       "</div>"
      ],
      "text/plain": [
       "       NObeyesdad\n",
       "0             6.0\n",
       "1             1.0\n",
       "2             0.0\n",
       "3             4.0\n",
       "4             6.0\n",
       "...           ...\n",
       "20753         3.0\n",
       "20754         0.0\n",
       "20755         3.0\n",
       "20756         6.0\n",
       "20757         3.0\n",
       "\n",
       "[20758 rows x 1 columns]"
      ]
     },
     "execution_count": 19,
     "metadata": {},
     "output_type": "execute_result"
    }
   ],
   "source": [
    "from sklearn.preprocessing import OrdinalEncoder\n",
    "ord = OrdinalEncoder().set_output(transform='pandas')\n",
    "Y_ord = ord.fit_transform(Y)\n",
    "Y_ord"
   ]
  },
  {
   "cell_type": "markdown",
   "metadata": {},
   "source": [
    "### Apply a train test split"
   ]
  },
  {
   "cell_type": "code",
   "execution_count": 20,
   "metadata": {},
   "outputs": [],
   "source": [
    "from sklearn.model_selection import train_test_split\n",
    "xtrain, xtest, ytrain, ytest = train_test_split(X_pre, Y_ord, test_size=0.2, random_state=42)"
   ]
  },
  {
   "cell_type": "code",
   "execution_count": 21,
   "metadata": {},
   "outputs": [
    {
     "data": {
      "text/html": [
       "<div>\n",
       "<style scoped>\n",
       "    .dataframe tbody tr th:only-of-type {\n",
       "        vertical-align: middle;\n",
       "    }\n",
       "\n",
       "    .dataframe tbody tr th {\n",
       "        vertical-align: top;\n",
       "    }\n",
       "\n",
       "    .dataframe thead th {\n",
       "        text-align: right;\n",
       "    }\n",
       "</style>\n",
       "<table border=\"1\" class=\"dataframe\">\n",
       "  <thead>\n",
       "    <tr style=\"text-align: right;\">\n",
       "      <th></th>\n",
       "      <th>con__Age</th>\n",
       "      <th>con__Height</th>\n",
       "      <th>con__Weight</th>\n",
       "      <th>con__FCVC</th>\n",
       "      <th>con__NCP</th>\n",
       "      <th>con__CH2O</th>\n",
       "      <th>con__FAF</th>\n",
       "      <th>con__TUE</th>\n",
       "      <th>cat__Gender_Female</th>\n",
       "      <th>cat__Gender_Male</th>\n",
       "      <th>...</th>\n",
       "      <th>cat__SCC_no</th>\n",
       "      <th>cat__SCC_yes</th>\n",
       "      <th>cat__CALC_Frequently</th>\n",
       "      <th>cat__CALC_Sometimes</th>\n",
       "      <th>cat__CALC_no</th>\n",
       "      <th>cat__MTRANS_Automobile</th>\n",
       "      <th>cat__MTRANS_Bike</th>\n",
       "      <th>cat__MTRANS_Motorbike</th>\n",
       "      <th>cat__MTRANS_Public_Transportation</th>\n",
       "      <th>cat__MTRANS_Walking</th>\n",
       "    </tr>\n",
       "  </thead>\n",
       "  <tbody>\n",
       "    <tr>\n",
       "      <th>9958</th>\n",
       "      <td>-1.202863</td>\n",
       "      <td>0.798937</td>\n",
       "      <td>0.345438</td>\n",
       "      <td>1.039171</td>\n",
       "      <td>0.338364</td>\n",
       "      <td>-0.048349</td>\n",
       "      <td>2.407607</td>\n",
       "      <td>0.636513</td>\n",
       "      <td>0.0</td>\n",
       "      <td>1.0</td>\n",
       "      <td>...</td>\n",
       "      <td>1.0</td>\n",
       "      <td>0.0</td>\n",
       "      <td>0.0</td>\n",
       "      <td>0.0</td>\n",
       "      <td>1.0</td>\n",
       "      <td>1.0</td>\n",
       "      <td>0.0</td>\n",
       "      <td>0.0</td>\n",
       "      <td>0.0</td>\n",
       "      <td>0.0</td>\n",
       "    </tr>\n",
       "    <tr>\n",
       "      <th>7841</th>\n",
       "      <td>-0.206438</td>\n",
       "      <td>0.608684</td>\n",
       "      <td>-1.251408</td>\n",
       "      <td>-0.836279</td>\n",
       "      <td>1.756085</td>\n",
       "      <td>-0.048349</td>\n",
       "      <td>1.214691</td>\n",
       "      <td>0.636513</td>\n",
       "      <td>0.0</td>\n",
       "      <td>1.0</td>\n",
       "      <td>...</td>\n",
       "      <td>1.0</td>\n",
       "      <td>0.0</td>\n",
       "      <td>0.0</td>\n",
       "      <td>0.0</td>\n",
       "      <td>1.0</td>\n",
       "      <td>0.0</td>\n",
       "      <td>0.0</td>\n",
       "      <td>0.0</td>\n",
       "      <td>1.0</td>\n",
       "      <td>0.0</td>\n",
       "    </tr>\n",
       "    <tr>\n",
       "      <th>9293</th>\n",
       "      <td>-0.352234</td>\n",
       "      <td>1.370087</td>\n",
       "      <td>1.294114</td>\n",
       "      <td>1.039171</td>\n",
       "      <td>0.169396</td>\n",
       "      <td>-0.631241</td>\n",
       "      <td>-0.288525</td>\n",
       "      <td>-1.024344</td>\n",
       "      <td>0.0</td>\n",
       "      <td>1.0</td>\n",
       "      <td>...</td>\n",
       "      <td>1.0</td>\n",
       "      <td>0.0</td>\n",
       "      <td>0.0</td>\n",
       "      <td>1.0</td>\n",
       "      <td>0.0</td>\n",
       "      <td>0.0</td>\n",
       "      <td>0.0</td>\n",
       "      <td>0.0</td>\n",
       "      <td>1.0</td>\n",
       "      <td>0.0</td>\n",
       "    </tr>\n",
       "    <tr>\n",
       "      <th>15209</th>\n",
       "      <td>3.016595</td>\n",
       "      <td>-1.377221</td>\n",
       "      <td>-0.299019</td>\n",
       "      <td>-0.836279</td>\n",
       "      <td>0.338364</td>\n",
       "      <td>-1.691863</td>\n",
       "      <td>-1.171141</td>\n",
       "      <td>-1.024344</td>\n",
       "      <td>1.0</td>\n",
       "      <td>0.0</td>\n",
       "      <td>...</td>\n",
       "      <td>1.0</td>\n",
       "      <td>0.0</td>\n",
       "      <td>0.0</td>\n",
       "      <td>1.0</td>\n",
       "      <td>0.0</td>\n",
       "      <td>1.0</td>\n",
       "      <td>0.0</td>\n",
       "      <td>0.0</td>\n",
       "      <td>0.0</td>\n",
       "      <td>0.0</td>\n",
       "    </tr>\n",
       "    <tr>\n",
       "      <th>16515</th>\n",
       "      <td>-0.147998</td>\n",
       "      <td>1.142541</td>\n",
       "      <td>0.269619</td>\n",
       "      <td>1.039171</td>\n",
       "      <td>0.338364</td>\n",
       "      <td>1.595165</td>\n",
       "      <td>1.214691</td>\n",
       "      <td>0.636513</td>\n",
       "      <td>0.0</td>\n",
       "      <td>1.0</td>\n",
       "      <td>...</td>\n",
       "      <td>1.0</td>\n",
       "      <td>0.0</td>\n",
       "      <td>1.0</td>\n",
       "      <td>0.0</td>\n",
       "      <td>0.0</td>\n",
       "      <td>0.0</td>\n",
       "      <td>0.0</td>\n",
       "      <td>0.0</td>\n",
       "      <td>1.0</td>\n",
       "      <td>0.0</td>\n",
       "    </tr>\n",
       "  </tbody>\n",
       "</table>\n",
       "<p>5 rows × 30 columns</p>\n",
       "</div>"
      ],
      "text/plain": [
       "       con__Age  con__Height  con__Weight  con__FCVC  con__NCP  con__CH2O  \\\n",
       "9958  -1.202863     0.798937     0.345438   1.039171  0.338364  -0.048349   \n",
       "7841  -0.206438     0.608684    -1.251408  -0.836279  1.756085  -0.048349   \n",
       "9293  -0.352234     1.370087     1.294114   1.039171  0.169396  -0.631241   \n",
       "15209  3.016595    -1.377221    -0.299019  -0.836279  0.338364  -1.691863   \n",
       "16515 -0.147998     1.142541     0.269619   1.039171  0.338364   1.595165   \n",
       "\n",
       "       con__FAF  con__TUE  cat__Gender_Female  cat__Gender_Male  ...  \\\n",
       "9958   2.407607  0.636513                 0.0               1.0  ...   \n",
       "7841   1.214691  0.636513                 0.0               1.0  ...   \n",
       "9293  -0.288525 -1.024344                 0.0               1.0  ...   \n",
       "15209 -1.171141 -1.024344                 1.0               0.0  ...   \n",
       "16515  1.214691  0.636513                 0.0               1.0  ...   \n",
       "\n",
       "       cat__SCC_no  cat__SCC_yes  cat__CALC_Frequently  cat__CALC_Sometimes  \\\n",
       "9958           1.0           0.0                   0.0                  0.0   \n",
       "7841           1.0           0.0                   0.0                  0.0   \n",
       "9293           1.0           0.0                   0.0                  1.0   \n",
       "15209          1.0           0.0                   0.0                  1.0   \n",
       "16515          1.0           0.0                   1.0                  0.0   \n",
       "\n",
       "       cat__CALC_no  cat__MTRANS_Automobile  cat__MTRANS_Bike  \\\n",
       "9958            1.0                     1.0               0.0   \n",
       "7841            1.0                     0.0               0.0   \n",
       "9293            0.0                     0.0               0.0   \n",
       "15209           0.0                     1.0               0.0   \n",
       "16515           0.0                     0.0               0.0   \n",
       "\n",
       "       cat__MTRANS_Motorbike  cat__MTRANS_Public_Transportation  \\\n",
       "9958                     0.0                                0.0   \n",
       "7841                     0.0                                1.0   \n",
       "9293                     0.0                                1.0   \n",
       "15209                    0.0                                0.0   \n",
       "16515                    0.0                                1.0   \n",
       "\n",
       "       cat__MTRANS_Walking  \n",
       "9958                   0.0  \n",
       "7841                   0.0  \n",
       "9293                   0.0  \n",
       "15209                  0.0  \n",
       "16515                  0.0  \n",
       "\n",
       "[5 rows x 30 columns]"
      ]
     },
     "execution_count": 21,
     "metadata": {},
     "output_type": "execute_result"
    }
   ],
   "source": [
    "xtrain.head()"
   ]
  },
  {
   "cell_type": "code",
   "execution_count": 22,
   "metadata": {},
   "outputs": [
    {
     "data": {
      "text/html": [
       "<div>\n",
       "<style scoped>\n",
       "    .dataframe tbody tr th:only-of-type {\n",
       "        vertical-align: middle;\n",
       "    }\n",
       "\n",
       "    .dataframe tbody tr th {\n",
       "        vertical-align: top;\n",
       "    }\n",
       "\n",
       "    .dataframe thead th {\n",
       "        text-align: right;\n",
       "    }\n",
       "</style>\n",
       "<table border=\"1\" class=\"dataframe\">\n",
       "  <thead>\n",
       "    <tr style=\"text-align: right;\">\n",
       "      <th></th>\n",
       "      <th>NObeyesdad</th>\n",
       "    </tr>\n",
       "  </thead>\n",
       "  <tbody>\n",
       "    <tr>\n",
       "      <th>9958</th>\n",
       "      <td>2.0</td>\n",
       "    </tr>\n",
       "    <tr>\n",
       "      <th>7841</th>\n",
       "      <td>0.0</td>\n",
       "    </tr>\n",
       "    <tr>\n",
       "      <th>9293</th>\n",
       "      <td>3.0</td>\n",
       "    </tr>\n",
       "    <tr>\n",
       "      <th>15209</th>\n",
       "      <td>2.0</td>\n",
       "    </tr>\n",
       "    <tr>\n",
       "      <th>16515</th>\n",
       "      <td>6.0</td>\n",
       "    </tr>\n",
       "  </tbody>\n",
       "</table>\n",
       "</div>"
      ],
      "text/plain": [
       "       NObeyesdad\n",
       "9958          2.0\n",
       "7841          0.0\n",
       "9293          3.0\n",
       "15209         2.0\n",
       "16515         6.0"
      ]
     },
     "execution_count": 22,
     "metadata": {},
     "output_type": "execute_result"
    }
   ],
   "source": [
    "ytrain.head()"
   ]
  },
  {
   "cell_type": "code",
   "execution_count": 23,
   "metadata": {},
   "outputs": [
    {
     "data": {
      "text/html": [
       "<div>\n",
       "<style scoped>\n",
       "    .dataframe tbody tr th:only-of-type {\n",
       "        vertical-align: middle;\n",
       "    }\n",
       "\n",
       "    .dataframe tbody tr th {\n",
       "        vertical-align: top;\n",
       "    }\n",
       "\n",
       "    .dataframe thead th {\n",
       "        text-align: right;\n",
       "    }\n",
       "</style>\n",
       "<table border=\"1\" class=\"dataframe\">\n",
       "  <thead>\n",
       "    <tr style=\"text-align: right;\">\n",
       "      <th></th>\n",
       "      <th>con__Age</th>\n",
       "      <th>con__Height</th>\n",
       "      <th>con__Weight</th>\n",
       "      <th>con__FCVC</th>\n",
       "      <th>con__NCP</th>\n",
       "      <th>con__CH2O</th>\n",
       "      <th>con__FAF</th>\n",
       "      <th>con__TUE</th>\n",
       "      <th>cat__Gender_Female</th>\n",
       "      <th>cat__Gender_Male</th>\n",
       "      <th>...</th>\n",
       "      <th>cat__SCC_no</th>\n",
       "      <th>cat__SCC_yes</th>\n",
       "      <th>cat__CALC_Frequently</th>\n",
       "      <th>cat__CALC_Sometimes</th>\n",
       "      <th>cat__CALC_no</th>\n",
       "      <th>cat__MTRANS_Automobile</th>\n",
       "      <th>cat__MTRANS_Bike</th>\n",
       "      <th>cat__MTRANS_Motorbike</th>\n",
       "      <th>cat__MTRANS_Public_Transportation</th>\n",
       "      <th>cat__MTRANS_Walking</th>\n",
       "    </tr>\n",
       "  </thead>\n",
       "  <tbody>\n",
       "    <tr>\n",
       "      <th>10317</th>\n",
       "      <td>0.379434</td>\n",
       "      <td>-0.584893</td>\n",
       "      <td>0.911536</td>\n",
       "      <td>1.039171</td>\n",
       "      <td>0.338364</td>\n",
       "      <td>-1.211170</td>\n",
       "      <td>-1.093287</td>\n",
       "      <td>0.157075</td>\n",
       "      <td>1.0</td>\n",
       "      <td>0.0</td>\n",
       "      <td>...</td>\n",
       "      <td>1.0</td>\n",
       "      <td>0.0</td>\n",
       "      <td>0.0</td>\n",
       "      <td>1.0</td>\n",
       "      <td>0.0</td>\n",
       "      <td>0.0</td>\n",
       "      <td>0.0</td>\n",
       "      <td>0.0</td>\n",
       "      <td>1.0</td>\n",
       "      <td>0.0</td>\n",
       "    </tr>\n",
       "    <tr>\n",
       "      <th>4074</th>\n",
       "      <td>-1.027052</td>\n",
       "      <td>0.569868</td>\n",
       "      <td>-0.299019</td>\n",
       "      <td>-0.836279</td>\n",
       "      <td>0.338364</td>\n",
       "      <td>-0.048349</td>\n",
       "      <td>0.021775</td>\n",
       "      <td>0.636513</td>\n",
       "      <td>0.0</td>\n",
       "      <td>1.0</td>\n",
       "      <td>...</td>\n",
       "      <td>1.0</td>\n",
       "      <td>0.0</td>\n",
       "      <td>0.0</td>\n",
       "      <td>1.0</td>\n",
       "      <td>0.0</td>\n",
       "      <td>0.0</td>\n",
       "      <td>0.0</td>\n",
       "      <td>0.0</td>\n",
       "      <td>1.0</td>\n",
       "      <td>0.0</td>\n",
       "    </tr>\n",
       "    <tr>\n",
       "      <th>9060</th>\n",
       "      <td>-0.084652</td>\n",
       "      <td>0.150442</td>\n",
       "      <td>-0.120003</td>\n",
       "      <td>0.814419</td>\n",
       "      <td>0.338364</td>\n",
       "      <td>1.344141</td>\n",
       "      <td>1.214691</td>\n",
       "      <td>-1.020025</td>\n",
       "      <td>1.0</td>\n",
       "      <td>0.0</td>\n",
       "      <td>...</td>\n",
       "      <td>1.0</td>\n",
       "      <td>0.0</td>\n",
       "      <td>0.0</td>\n",
       "      <td>0.0</td>\n",
       "      <td>1.0</td>\n",
       "      <td>0.0</td>\n",
       "      <td>0.0</td>\n",
       "      <td>0.0</td>\n",
       "      <td>1.0</td>\n",
       "      <td>0.0</td>\n",
       "    </tr>\n",
       "    <tr>\n",
       "      <th>11286</th>\n",
       "      <td>1.083034</td>\n",
       "      <td>-0.338770</td>\n",
       "      <td>0.914090</td>\n",
       "      <td>-1.638904</td>\n",
       "      <td>0.338364</td>\n",
       "      <td>-0.042493</td>\n",
       "      <td>-1.171141</td>\n",
       "      <td>-0.834247</td>\n",
       "      <td>0.0</td>\n",
       "      <td>1.0</td>\n",
       "      <td>...</td>\n",
       "      <td>1.0</td>\n",
       "      <td>0.0</td>\n",
       "      <td>0.0</td>\n",
       "      <td>1.0</td>\n",
       "      <td>0.0</td>\n",
       "      <td>0.0</td>\n",
       "      <td>0.0</td>\n",
       "      <td>0.0</td>\n",
       "      <td>1.0</td>\n",
       "      <td>0.0</td>\n",
       "    </tr>\n",
       "    <tr>\n",
       "      <th>8254</th>\n",
       "      <td>-1.202863</td>\n",
       "      <td>-1.033617</td>\n",
       "      <td>-1.436296</td>\n",
       "      <td>-0.836279</td>\n",
       "      <td>0.338364</td>\n",
       "      <td>-0.048349</td>\n",
       "      <td>-1.171141</td>\n",
       "      <td>2.297369</td>\n",
       "      <td>0.0</td>\n",
       "      <td>1.0</td>\n",
       "      <td>...</td>\n",
       "      <td>1.0</td>\n",
       "      <td>0.0</td>\n",
       "      <td>0.0</td>\n",
       "      <td>0.0</td>\n",
       "      <td>1.0</td>\n",
       "      <td>0.0</td>\n",
       "      <td>0.0</td>\n",
       "      <td>0.0</td>\n",
       "      <td>1.0</td>\n",
       "      <td>0.0</td>\n",
       "    </tr>\n",
       "  </tbody>\n",
       "</table>\n",
       "<p>5 rows × 30 columns</p>\n",
       "</div>"
      ],
      "text/plain": [
       "       con__Age  con__Height  con__Weight  con__FCVC  con__NCP  con__CH2O  \\\n",
       "10317  0.379434    -0.584893     0.911536   1.039171  0.338364  -1.211170   \n",
       "4074  -1.027052     0.569868    -0.299019  -0.836279  0.338364  -0.048349   \n",
       "9060  -0.084652     0.150442    -0.120003   0.814419  0.338364   1.344141   \n",
       "11286  1.083034    -0.338770     0.914090  -1.638904  0.338364  -0.042493   \n",
       "8254  -1.202863    -1.033617    -1.436296  -0.836279  0.338364  -0.048349   \n",
       "\n",
       "       con__FAF  con__TUE  cat__Gender_Female  cat__Gender_Male  ...  \\\n",
       "10317 -1.093287  0.157075                 1.0               0.0  ...   \n",
       "4074   0.021775  0.636513                 0.0               1.0  ...   \n",
       "9060   1.214691 -1.020025                 1.0               0.0  ...   \n",
       "11286 -1.171141 -0.834247                 0.0               1.0  ...   \n",
       "8254  -1.171141  2.297369                 0.0               1.0  ...   \n",
       "\n",
       "       cat__SCC_no  cat__SCC_yes  cat__CALC_Frequently  cat__CALC_Sometimes  \\\n",
       "10317          1.0           0.0                   0.0                  1.0   \n",
       "4074           1.0           0.0                   0.0                  1.0   \n",
       "9060           1.0           0.0                   0.0                  0.0   \n",
       "11286          1.0           0.0                   0.0                  1.0   \n",
       "8254           1.0           0.0                   0.0                  0.0   \n",
       "\n",
       "       cat__CALC_no  cat__MTRANS_Automobile  cat__MTRANS_Bike  \\\n",
       "10317           0.0                     0.0               0.0   \n",
       "4074            0.0                     0.0               0.0   \n",
       "9060            1.0                     0.0               0.0   \n",
       "11286           0.0                     0.0               0.0   \n",
       "8254            1.0                     0.0               0.0   \n",
       "\n",
       "       cat__MTRANS_Motorbike  cat__MTRANS_Public_Transportation  \\\n",
       "10317                    0.0                                1.0   \n",
       "4074                     0.0                                1.0   \n",
       "9060                     0.0                                1.0   \n",
       "11286                    0.0                                1.0   \n",
       "8254                     0.0                                1.0   \n",
       "\n",
       "       cat__MTRANS_Walking  \n",
       "10317                  0.0  \n",
       "4074                   0.0  \n",
       "9060                   0.0  \n",
       "11286                  0.0  \n",
       "8254                   0.0  \n",
       "\n",
       "[5 rows x 30 columns]"
      ]
     },
     "execution_count": 23,
     "metadata": {},
     "output_type": "execute_result"
    }
   ],
   "source": [
    "xtest.head()"
   ]
  },
  {
   "cell_type": "code",
   "execution_count": 24,
   "metadata": {},
   "outputs": [
    {
     "data": {
      "text/html": [
       "<div>\n",
       "<style scoped>\n",
       "    .dataframe tbody tr th:only-of-type {\n",
       "        vertical-align: middle;\n",
       "    }\n",
       "\n",
       "    .dataframe tbody tr th {\n",
       "        vertical-align: top;\n",
       "    }\n",
       "\n",
       "    .dataframe thead th {\n",
       "        text-align: right;\n",
       "    }\n",
       "</style>\n",
       "<table border=\"1\" class=\"dataframe\">\n",
       "  <thead>\n",
       "    <tr style=\"text-align: right;\">\n",
       "      <th></th>\n",
       "      <th>NObeyesdad</th>\n",
       "    </tr>\n",
       "  </thead>\n",
       "  <tbody>\n",
       "    <tr>\n",
       "      <th>10317</th>\n",
       "      <td>4.0</td>\n",
       "    </tr>\n",
       "    <tr>\n",
       "      <th>4074</th>\n",
       "      <td>5.0</td>\n",
       "    </tr>\n",
       "    <tr>\n",
       "      <th>9060</th>\n",
       "      <td>2.0</td>\n",
       "    </tr>\n",
       "    <tr>\n",
       "      <th>11286</th>\n",
       "      <td>3.0</td>\n",
       "    </tr>\n",
       "    <tr>\n",
       "      <th>8254</th>\n",
       "      <td>0.0</td>\n",
       "    </tr>\n",
       "  </tbody>\n",
       "</table>\n",
       "</div>"
      ],
      "text/plain": [
       "       NObeyesdad\n",
       "10317         4.0\n",
       "4074          5.0\n",
       "9060          2.0\n",
       "11286         3.0\n",
       "8254          0.0"
      ]
     },
     "execution_count": 24,
     "metadata": {},
     "output_type": "execute_result"
    }
   ],
   "source": [
    "ytest.head()"
   ]
  },
  {
   "cell_type": "code",
   "execution_count": 25,
   "metadata": {},
   "outputs": [
    {
     "data": {
      "text/plain": [
       "(16606, 30)"
      ]
     },
     "execution_count": 25,
     "metadata": {},
     "output_type": "execute_result"
    }
   ],
   "source": [
    "xtrain.shape"
   ]
  },
  {
   "cell_type": "code",
   "execution_count": 26,
   "metadata": {},
   "outputs": [
    {
     "data": {
      "text/plain": [
       "(4152, 30)"
      ]
     },
     "execution_count": 26,
     "metadata": {},
     "output_type": "execute_result"
    }
   ],
   "source": [
    "xtest.shape"
   ]
  },
  {
   "cell_type": "code",
   "execution_count": 27,
   "metadata": {},
   "outputs": [
    {
     "data": {
      "text/plain": [
       "NObeyesdad\n",
       "4.0           3242\n",
       "3.0           2591\n",
       "1.0           2456\n",
       "2.0           2367\n",
       "6.0           2008\n",
       "0.0           1999\n",
       "5.0           1943\n",
       "Name: count, dtype: int64"
      ]
     },
     "execution_count": 27,
     "metadata": {},
     "output_type": "execute_result"
    }
   ],
   "source": [
    "ytrain.value_counts()"
   ]
  },
  {
   "cell_type": "code",
   "execution_count": 28,
   "metadata": {},
   "outputs": [
    {
     "data": {
      "text/plain": [
       "NObeyesdad\n",
       "4.0           804\n",
       "3.0           657\n",
       "1.0           626\n",
       "2.0           543\n",
       "0.0           524\n",
       "6.0           514\n",
       "5.0           484\n",
       "Name: count, dtype: int64"
      ]
     },
     "execution_count": 28,
     "metadata": {},
     "output_type": "execute_result"
    }
   ],
   "source": [
    "ytest.value_counts()"
   ]
  },
  {
   "cell_type": "markdown",
   "metadata": {},
   "source": [
    "### Convert target feature to categorical"
   ]
  },
  {
   "cell_type": "code",
   "execution_count": 29,
   "metadata": {},
   "outputs": [
    {
     "name": "stdout",
     "output_type": "stream",
     "text": [
      "WARNING:tensorflow:From d:\\Deep Learning 7 pm\\repository\\venv\\Lib\\site-packages\\keras\\src\\losses.py:2976: The name tf.losses.sparse_softmax_cross_entropy is deprecated. Please use tf.compat.v1.losses.sparse_softmax_cross_entropy instead.\n",
      "\n"
     ]
    }
   ],
   "source": [
    "from keras.utils import to_categorical\n",
    "ytrain_cat = to_categorical(ytrain)\n",
    "ytest_cat = to_categorical(ytest)"
   ]
  },
  {
   "cell_type": "code",
   "execution_count": 30,
   "metadata": {},
   "outputs": [
    {
     "data": {
      "text/plain": [
       "array([[0., 0., 1., ..., 0., 0., 0.],\n",
       "       [1., 0., 0., ..., 0., 0., 0.],\n",
       "       [0., 0., 0., ..., 0., 0., 0.],\n",
       "       ...,\n",
       "       [0., 0., 0., ..., 0., 1., 0.],\n",
       "       [0., 0., 0., ..., 1., 0., 0.],\n",
       "       [0., 0., 1., ..., 0., 0., 0.]], dtype=float32)"
      ]
     },
     "execution_count": 30,
     "metadata": {},
     "output_type": "execute_result"
    }
   ],
   "source": [
    "ytrain_cat"
   ]
  },
  {
   "cell_type": "code",
   "execution_count": 31,
   "metadata": {},
   "outputs": [
    {
     "data": {
      "text/plain": [
       "array([0., 0., 1., 0., 0., 0., 0.], dtype=float32)"
      ]
     },
     "execution_count": 31,
     "metadata": {},
     "output_type": "execute_result"
    }
   ],
   "source": [
    "ytrain_cat[0]"
   ]
  },
  {
   "cell_type": "code",
   "execution_count": 32,
   "metadata": {},
   "outputs": [
    {
     "data": {
      "text/plain": [
       "array([[0., 0., 0., ..., 1., 0., 0.],\n",
       "       [0., 0., 0., ..., 0., 1., 0.],\n",
       "       [0., 0., 1., ..., 0., 0., 0.],\n",
       "       ...,\n",
       "       [0., 0., 1., ..., 0., 0., 0.],\n",
       "       [0., 0., 0., ..., 0., 1., 0.],\n",
       "       [0., 0., 0., ..., 0., 0., 1.]], dtype=float32)"
      ]
     },
     "execution_count": 32,
     "metadata": {},
     "output_type": "execute_result"
    }
   ],
   "source": [
    "ytest_cat"
   ]
  },
  {
   "cell_type": "markdown",
   "metadata": {},
   "source": [
    "### Create a neural network"
   ]
  },
  {
   "attachments": {
    "image.png": {
     "image/png": "[encoded data removed]"
    }
   },
   "cell_type": "markdown",
   "metadata": {},
   "source": [
    "![image.png](attachment:image.png)"
   ]
  },
  {
   "cell_type": "code",
   "execution_count": 34,
   "metadata": {},
   "outputs": [
    {
     "data": {
      "text/plain": [
       "(16606, 30)"
      ]
     },
     "execution_count": 34,
     "metadata": {},
     "output_type": "execute_result"
    }
   ],
   "source": [
    "xtrain.shape"
   ]
  },
  {
   "cell_type": "code",
   "execution_count": 35,
   "metadata": {},
   "outputs": [
    {
     "data": {
      "text/plain": [
       "30"
      ]
     },
     "execution_count": 35,
     "metadata": {},
     "output_type": "execute_result"
    }
   ],
   "source": [
    "xtrain.shape[1]"
   ]
  },
  {
   "cell_type": "code",
   "execution_count": 37,
   "metadata": {},
   "outputs": [
    {
     "data": {
      "text/plain": [
       "(16606, 7)"
      ]
     },
     "execution_count": 37,
     "metadata": {},
     "output_type": "execute_result"
    }
   ],
   "source": [
    "ytrain_cat.shape"
   ]
  },
  {
   "cell_type": "code",
   "execution_count": 38,
   "metadata": {},
   "outputs": [
    {
     "data": {
      "text/plain": [
       "7"
      ]
     },
     "execution_count": 38,
     "metadata": {},
     "output_type": "execute_result"
    }
   ],
   "source": [
    "ytrain_cat.shape[1]"
   ]
  },
  {
   "cell_type": "code",
   "execution_count": 33,
   "metadata": {},
   "outputs": [],
   "source": [
    "from keras.models import Sequential\n",
    "from keras.layers import Dense, Dropout\n",
    "from keras.callbacks import EarlyStopping"
   ]
  },
  {
   "cell_type": "code",
   "execution_count": 39,
   "metadata": {},
   "outputs": [
    {
     "name": "stdout",
     "output_type": "stream",
     "text": [
      "WARNING:tensorflow:From d:\\Deep Learning 7 pm\\repository\\venv\\Lib\\site-packages\\keras\\src\\backend.py:873: The name tf.get_default_graph is deprecated. Please use tf.compat.v1.get_default_graph instead.\n",
      "\n"
     ]
    }
   ],
   "source": [
    "# Create a model\n",
    "model = Sequential()\n",
    "\n",
    "# Add a hidden layer 1\n",
    "model.add(Dense(64, activation='relu', input_shape=(xtrain.shape[1],)))\n",
    "model.add(Dropout(0.4))\n",
    "# Add hidden layer 2\n",
    "model.add(Dense(32, activation='relu'))\n",
    "model.add(Dropout(0.3))\n",
    "# Output layer\n",
    "model.add(Dense(7, activation='softmax'))"
   ]
  },
  {
   "cell_type": "code",
   "execution_count": 40,
   "metadata": {},
   "outputs": [
    {
     "name": "stdout",
     "output_type": "stream",
     "text": [
      "WARNING:tensorflow:From d:\\Deep Learning 7 pm\\repository\\venv\\Lib\\site-packages\\keras\\src\\optimizers\\__init__.py:309: The name tf.train.Optimizer is deprecated. Please use tf.compat.v1.train.Optimizer instead.\n",
      "\n"
     ]
    }
   ],
   "source": [
    "model.compile(optimizer='adam', loss='categorical_crossentropy', metrics=['accuracy'])"
   ]
  },
  {
   "cell_type": "code",
   "execution_count": 41,
   "metadata": {},
   "outputs": [],
   "source": [
    "earlystop = EarlyStopping(monitor='val_loss', patience=10)"
   ]
  },
  {
   "cell_type": "markdown",
   "metadata": {},
   "source": [
    "### Fit the model"
   ]
  },
  {
   "cell_type": "code",
   "execution_count": 42,
   "metadata": {},
   "outputs": [
    {
     "name": "stdout",
     "output_type": "stream",
     "text": [
      "Epoch 1/400\n",
      "WARNING:tensorflow:From d:\\Deep Learning 7 pm\\repository\\venv\\Lib\\site-packages\\keras\\src\\utils\\tf_utils.py:492: The name tf.ragged.RaggedTensorValue is deprecated. Please use tf.compat.v1.ragged.RaggedTensorValue instead.\n",
      "\n",
      "WARNING:tensorflow:From d:\\Deep Learning 7 pm\\repository\\venv\\Lib\\site-packages\\keras\\src\\engine\\base_layer_utils.py:384: The name tf.executing_eagerly_outside_functions is deprecated. Please use tf.compat.v1.executing_eagerly_outside_functions instead.\n",
      "\n",
      "416/416 [==============================] - 3s 3ms/step - loss: 1.2231 - accuracy: 0.5171 - val_loss: 0.7234 - val_accuracy: 0.7267\n",
      "Epoch 2/400\n",
      "416/416 [==============================] - 1s 3ms/step - loss: 0.8050 - accuracy: 0.6650 - val_loss: 0.5698 - val_accuracy: 0.7992\n",
      "Epoch 3/400\n",
      "416/416 [==============================] - 1s 3ms/step - loss: 0.6785 - accuracy: 0.7249 - val_loss: 0.4821 - val_accuracy: 0.8432\n",
      "Epoch 4/400\n",
      "416/416 [==============================] - 1s 3ms/step - loss: 0.6126 - accuracy: 0.7576 - val_loss: 0.4623 - val_accuracy: 0.8384\n",
      "Epoch 5/400\n",
      "416/416 [==============================] - 1s 3ms/step - loss: 0.5879 - accuracy: 0.7722 - val_loss: 0.4320 - val_accuracy: 0.8543\n",
      "Epoch 6/400\n",
      "416/416 [==============================] - 1s 2ms/step - loss: 0.5635 - accuracy: 0.7808 - val_loss: 0.4145 - val_accuracy: 0.8579\n",
      "Epoch 7/400\n",
      "416/416 [==============================] - 1s 2ms/step - loss: 0.5479 - accuracy: 0.7977 - val_loss: 0.4138 - val_accuracy: 0.8579\n",
      "Epoch 8/400\n",
      "416/416 [==============================] - 1s 2ms/step - loss: 0.5284 - accuracy: 0.8002 - val_loss: 0.3981 - val_accuracy: 0.8594\n",
      "Epoch 9/400\n",
      "416/416 [==============================] - 1s 2ms/step - loss: 0.5214 - accuracy: 0.8075 - val_loss: 0.3903 - val_accuracy: 0.8694\n",
      "Epoch 10/400\n",
      "416/416 [==============================] - 1s 2ms/step - loss: 0.5095 - accuracy: 0.8145 - val_loss: 0.3731 - val_accuracy: 0.8724\n",
      "Epoch 11/400\n",
      "416/416 [==============================] - 1s 2ms/step - loss: 0.5022 - accuracy: 0.8169 - val_loss: 0.3704 - val_accuracy: 0.8715\n",
      "Epoch 12/400\n",
      "416/416 [==============================] - 1s 2ms/step - loss: 0.4928 - accuracy: 0.8210 - val_loss: 0.3691 - val_accuracy: 0.8760\n",
      "Epoch 13/400\n",
      "416/416 [==============================] - 1s 2ms/step - loss: 0.4897 - accuracy: 0.8260 - val_loss: 0.3654 - val_accuracy: 0.8769\n",
      "Epoch 14/400\n",
      "416/416 [==============================] - 1s 2ms/step - loss: 0.4808 - accuracy: 0.8293 - val_loss: 0.3648 - val_accuracy: 0.8784\n",
      "Epoch 15/400\n",
      "416/416 [==============================] - 1s 2ms/step - loss: 0.4828 - accuracy: 0.8276 - val_loss: 0.3675 - val_accuracy: 0.8751\n",
      "Epoch 16/400\n",
      "416/416 [==============================] - 1s 2ms/step - loss: 0.4808 - accuracy: 0.8318 - val_loss: 0.3645 - val_accuracy: 0.8808\n",
      "Epoch 17/400\n",
      "416/416 [==============================] - 1s 2ms/step - loss: 0.4701 - accuracy: 0.8354 - val_loss: 0.3558 - val_accuracy: 0.8814\n",
      "Epoch 18/400\n",
      "416/416 [==============================] - 1s 2ms/step - loss: 0.4689 - accuracy: 0.8373 - val_loss: 0.3550 - val_accuracy: 0.8799\n",
      "Epoch 19/400\n",
      "416/416 [==============================] - 1s 2ms/step - loss: 0.4673 - accuracy: 0.8371 - val_loss: 0.3537 - val_accuracy: 0.8793\n",
      "Epoch 20/400\n",
      "416/416 [==============================] - 1s 2ms/step - loss: 0.4628 - accuracy: 0.8386 - val_loss: 0.3552 - val_accuracy: 0.8811\n",
      "Epoch 21/400\n",
      "416/416 [==============================] - 1s 2ms/step - loss: 0.4597 - accuracy: 0.8394 - val_loss: 0.3557 - val_accuracy: 0.8766\n",
      "Epoch 22/400\n",
      "416/416 [==============================] - 1s 2ms/step - loss: 0.4589 - accuracy: 0.8404 - val_loss: 0.3503 - val_accuracy: 0.8829\n",
      "Epoch 23/400\n",
      "416/416 [==============================] - 1s 2ms/step - loss: 0.4583 - accuracy: 0.8395 - val_loss: 0.3491 - val_accuracy: 0.8814\n",
      "Epoch 24/400\n",
      "416/416 [==============================] - 1s 2ms/step - loss: 0.4541 - accuracy: 0.8425 - val_loss: 0.3636 - val_accuracy: 0.8754\n",
      "Epoch 25/400\n",
      "416/416 [==============================] - 1s 2ms/step - loss: 0.4532 - accuracy: 0.8396 - val_loss: 0.3548 - val_accuracy: 0.8802\n",
      "Epoch 26/400\n",
      "416/416 [==============================] - 1s 2ms/step - loss: 0.4504 - accuracy: 0.8426 - val_loss: 0.3477 - val_accuracy: 0.8859\n",
      "Epoch 27/400\n",
      "416/416 [==============================] - 1s 2ms/step - loss: 0.4528 - accuracy: 0.8433 - val_loss: 0.3547 - val_accuracy: 0.8811\n",
      "Epoch 28/400\n",
      "416/416 [==============================] - 1s 2ms/step - loss: 0.4482 - accuracy: 0.8451 - val_loss: 0.3439 - val_accuracy: 0.8829\n",
      "Epoch 29/400\n",
      "416/416 [==============================] - 1s 2ms/step - loss: 0.4499 - accuracy: 0.8479 - val_loss: 0.3475 - val_accuracy: 0.8844\n",
      "Epoch 30/400\n",
      "416/416 [==============================] - 1s 2ms/step - loss: 0.4445 - accuracy: 0.8476 - val_loss: 0.3402 - val_accuracy: 0.8919\n",
      "Epoch 31/400\n",
      "416/416 [==============================] - 1s 2ms/step - loss: 0.4496 - accuracy: 0.8462 - val_loss: 0.3454 - val_accuracy: 0.8808\n",
      "Epoch 32/400\n",
      "416/416 [==============================] - 1s 2ms/step - loss: 0.4347 - accuracy: 0.8492 - val_loss: 0.3453 - val_accuracy: 0.8871\n",
      "Epoch 33/400\n",
      "416/416 [==============================] - 1s 2ms/step - loss: 0.4384 - accuracy: 0.8468 - val_loss: 0.3356 - val_accuracy: 0.8880\n",
      "Epoch 34/400\n",
      "416/416 [==============================] - 1s 2ms/step - loss: 0.4419 - accuracy: 0.8525 - val_loss: 0.3436 - val_accuracy: 0.8862\n",
      "Epoch 35/400\n",
      "416/416 [==============================] - 1s 2ms/step - loss: 0.4382 - accuracy: 0.8506 - val_loss: 0.3490 - val_accuracy: 0.8841\n",
      "Epoch 36/400\n",
      "416/416 [==============================] - 1s 2ms/step - loss: 0.4384 - accuracy: 0.8479 - val_loss: 0.3464 - val_accuracy: 0.8826\n",
      "Epoch 37/400\n",
      "416/416 [==============================] - 1s 2ms/step - loss: 0.4387 - accuracy: 0.8504 - val_loss: 0.3419 - val_accuracy: 0.8826\n",
      "Epoch 38/400\n",
      "416/416 [==============================] - 1s 2ms/step - loss: 0.4349 - accuracy: 0.8502 - val_loss: 0.3360 - val_accuracy: 0.8880\n",
      "Epoch 39/400\n",
      "416/416 [==============================] - 1s 2ms/step - loss: 0.4319 - accuracy: 0.8474 - val_loss: 0.3391 - val_accuracy: 0.8889\n",
      "Epoch 40/400\n",
      "416/416 [==============================] - 1s 2ms/step - loss: 0.4304 - accuracy: 0.8576 - val_loss: 0.3375 - val_accuracy: 0.8832\n",
      "Epoch 41/400\n",
      "416/416 [==============================] - 1s 2ms/step - loss: 0.4351 - accuracy: 0.8531 - val_loss: 0.3409 - val_accuracy: 0.8829\n",
      "Epoch 42/400\n",
      "416/416 [==============================] - 1s 2ms/step - loss: 0.4334 - accuracy: 0.8508 - val_loss: 0.3476 - val_accuracy: 0.8793\n",
      "Epoch 43/400\n",
      "416/416 [==============================] - 1s 2ms/step - loss: 0.4323 - accuracy: 0.8549 - val_loss: 0.3338 - val_accuracy: 0.8895\n",
      "Epoch 44/400\n",
      "416/416 [==============================] - 1s 2ms/step - loss: 0.4291 - accuracy: 0.8519 - val_loss: 0.3506 - val_accuracy: 0.8748\n",
      "Epoch 45/400\n",
      "416/416 [==============================] - 1s 2ms/step - loss: 0.4321 - accuracy: 0.8542 - val_loss: 0.3489 - val_accuracy: 0.8823\n",
      "Epoch 46/400\n",
      "416/416 [==============================] - 1s 2ms/step - loss: 0.4316 - accuracy: 0.8527 - val_loss: 0.3355 - val_accuracy: 0.8880\n",
      "Epoch 47/400\n",
      "416/416 [==============================] - 1s 2ms/step - loss: 0.4229 - accuracy: 0.8547 - val_loss: 0.3330 - val_accuracy: 0.8862\n",
      "Epoch 48/400\n",
      "416/416 [==============================] - 1s 2ms/step - loss: 0.4240 - accuracy: 0.8527 - val_loss: 0.3312 - val_accuracy: 0.8898\n",
      "Epoch 49/400\n",
      "416/416 [==============================] - 1s 2ms/step - loss: 0.4267 - accuracy: 0.8516 - val_loss: 0.3319 - val_accuracy: 0.8868\n",
      "Epoch 50/400\n",
      "416/416 [==============================] - 1s 2ms/step - loss: 0.4310 - accuracy: 0.8549 - val_loss: 0.3344 - val_accuracy: 0.8856\n",
      "Epoch 51/400\n",
      "416/416 [==============================] - 1s 2ms/step - loss: 0.4206 - accuracy: 0.8567 - val_loss: 0.3423 - val_accuracy: 0.8820\n",
      "Epoch 52/400\n",
      "416/416 [==============================] - 1s 2ms/step - loss: 0.4313 - accuracy: 0.8541 - val_loss: 0.3351 - val_accuracy: 0.8880\n",
      "Epoch 53/400\n",
      "416/416 [==============================] - 1s 2ms/step - loss: 0.4276 - accuracy: 0.8535 - val_loss: 0.3317 - val_accuracy: 0.8817\n",
      "Epoch 54/400\n",
      "416/416 [==============================] - 1s 2ms/step - loss: 0.4229 - accuracy: 0.8539 - val_loss: 0.3310 - val_accuracy: 0.8865\n",
      "Epoch 55/400\n",
      "416/416 [==============================] - 1s 2ms/step - loss: 0.4235 - accuracy: 0.8559 - val_loss: 0.3367 - val_accuracy: 0.8904\n",
      "Epoch 56/400\n",
      "416/416 [==============================] - 1s 2ms/step - loss: 0.4237 - accuracy: 0.8570 - val_loss: 0.3382 - val_accuracy: 0.8838\n",
      "Epoch 57/400\n",
      "416/416 [==============================] - 1s 2ms/step - loss: 0.4231 - accuracy: 0.8572 - val_loss: 0.3378 - val_accuracy: 0.8901\n",
      "Epoch 58/400\n",
      "416/416 [==============================] - 1s 2ms/step - loss: 0.4222 - accuracy: 0.8580 - val_loss: 0.3326 - val_accuracy: 0.8883\n",
      "Epoch 59/400\n",
      "416/416 [==============================] - 1s 2ms/step - loss: 0.4268 - accuracy: 0.8540 - val_loss: 0.3369 - val_accuracy: 0.8832\n",
      "Epoch 60/400\n",
      "416/416 [==============================] - 1s 2ms/step - loss: 0.4165 - accuracy: 0.8576 - val_loss: 0.3326 - val_accuracy: 0.8892\n",
      "Epoch 61/400\n",
      "416/416 [==============================] - 1s 2ms/step - loss: 0.4203 - accuracy: 0.8588 - val_loss: 0.3304 - val_accuracy: 0.8865\n",
      "Epoch 62/400\n",
      "416/416 [==============================] - 1s 2ms/step - loss: 0.4206 - accuracy: 0.8569 - val_loss: 0.3392 - val_accuracy: 0.8817\n",
      "Epoch 63/400\n",
      "416/416 [==============================] - 1s 2ms/step - loss: 0.4176 - accuracy: 0.8566 - val_loss: 0.3343 - val_accuracy: 0.8850\n",
      "Epoch 64/400\n",
      "416/416 [==============================] - 1s 2ms/step - loss: 0.4273 - accuracy: 0.8531 - val_loss: 0.3357 - val_accuracy: 0.8856\n",
      "Epoch 65/400\n",
      "416/416 [==============================] - 1s 2ms/step - loss: 0.4289 - accuracy: 0.8526 - val_loss: 0.3328 - val_accuracy: 0.8877\n",
      "Epoch 66/400\n",
      "416/416 [==============================] - 1s 2ms/step - loss: 0.4216 - accuracy: 0.8545 - val_loss: 0.3346 - val_accuracy: 0.8838\n",
      "Epoch 67/400\n",
      "416/416 [==============================] - 1s 2ms/step - loss: 0.4171 - accuracy: 0.8590 - val_loss: 0.3353 - val_accuracy: 0.8889\n",
      "Epoch 68/400\n",
      "416/416 [==============================] - 1s 2ms/step - loss: 0.4165 - accuracy: 0.8595 - val_loss: 0.3263 - val_accuracy: 0.8868\n",
      "Epoch 69/400\n",
      "416/416 [==============================] - 1s 2ms/step - loss: 0.4208 - accuracy: 0.8566 - val_loss: 0.3401 - val_accuracy: 0.8835\n",
      "Epoch 70/400\n",
      "416/416 [==============================] - 1s 2ms/step - loss: 0.4147 - accuracy: 0.8563 - val_loss: 0.3328 - val_accuracy: 0.8853\n",
      "Epoch 71/400\n",
      "416/416 [==============================] - 1s 2ms/step - loss: 0.4186 - accuracy: 0.8580 - val_loss: 0.3353 - val_accuracy: 0.8847\n",
      "Epoch 72/400\n",
      "416/416 [==============================] - 1s 2ms/step - loss: 0.4200 - accuracy: 0.8558 - val_loss: 0.3314 - val_accuracy: 0.8880\n",
      "Epoch 73/400\n",
      "416/416 [==============================] - 1s 2ms/step - loss: 0.4206 - accuracy: 0.8546 - val_loss: 0.3313 - val_accuracy: 0.8859\n",
      "Epoch 74/400\n",
      "416/416 [==============================] - 1s 2ms/step - loss: 0.4164 - accuracy: 0.8592 - val_loss: 0.3302 - val_accuracy: 0.8868\n",
      "Epoch 75/400\n",
      "416/416 [==============================] - 1s 2ms/step - loss: 0.4113 - accuracy: 0.8604 - val_loss: 0.3364 - val_accuracy: 0.8862\n",
      "Epoch 76/400\n",
      "416/416 [==============================] - 1s 2ms/step - loss: 0.4106 - accuracy: 0.8610 - val_loss: 0.3372 - val_accuracy: 0.8862\n",
      "Epoch 77/400\n",
      "416/416 [==============================] - 1s 2ms/step - loss: 0.4199 - accuracy: 0.8561 - val_loss: 0.3278 - val_accuracy: 0.8886\n",
      "Epoch 78/400\n",
      "416/416 [==============================] - 1s 2ms/step - loss: 0.4095 - accuracy: 0.8607 - val_loss: 0.3298 - val_accuracy: 0.8871\n"
     ]
    }
   ],
   "source": [
    "hist = model.fit(xtrain, ytrain_cat, \n",
    "                 validation_split=0.2, \n",
    "                 epochs=400, \n",
    "                 callbacks=[earlystop])"
   ]
  },
  {
   "cell_type": "markdown",
   "metadata": {},
   "source": [
    "### Evaluate model in train and test"
   ]
  },
  {
   "cell_type": "code",
   "execution_count": 44,
   "metadata": {},
   "outputs": [
    {
     "name": "stdout",
     "output_type": "stream",
     "text": [
      "519/519 [==============================] - 1s 2ms/step - loss: 0.3247 - accuracy: 0.8867\n"
     ]
    },
    {
     "data": {
      "text/plain": [
       "[0.32466477155685425, 0.8866674900054932]"
      ]
     },
     "execution_count": 44,
     "metadata": {},
     "output_type": "execute_result"
    }
   ],
   "source": [
    "model.evaluate(xtrain, ytrain_cat)"
   ]
  },
  {
   "cell_type": "code",
   "execution_count": 46,
   "metadata": {},
   "outputs": [
    {
     "name": "stdout",
     "output_type": "stream",
     "text": [
      " 34/130 [======>.......................] - ETA: 0s - loss: 0.3615 - accuracy: 0.8686"
     ]
    },
    {
     "name": "stdout",
     "output_type": "stream",
     "text": [
      "130/130 [==============================] - 0s 2ms/step - loss: 0.3619 - accuracy: 0.8757\n"
     ]
    },
    {
     "data": {
      "text/plain": [
       "[0.3618781864643097, 0.8757225275039673]"
      ]
     },
     "execution_count": 46,
     "metadata": {},
     "output_type": "execute_result"
    }
   ],
   "source": [
    "model.evaluate(xtest, ytest_cat)"
   ]
  },
  {
   "cell_type": "markdown",
   "metadata": {},
   "source": [
    "### Plot the learning curve"
   ]
  },
  {
   "cell_type": "code",
   "execution_count": 47,
   "metadata": {},
   "outputs": [
    {
     "data": {
      "image/png": "[encoded data removed]",
      "text/plain": [
       "<Figure size 640x480 with 1 Axes>"
      ]
     },
     "metadata": {},
     "output_type": "display_data"
    }
   ],
   "source": [
    "import matplotlib.pyplot as plt \n",
    "plt.plot(hist.history['loss'], label='Train Loss')\n",
    "plt.plot(hist.history['val_loss'], label='Validation Loss')\n",
    "plt.xlabel('Epochs')\n",
    "plt.ylabel('Number of Epochs')\n",
    "plt.title('Learning Curve')\n",
    "plt.show()"
   ]
  },
  {
   "cell_type": "markdown",
   "metadata": {},
   "source": [
    "### Predict the probability for train and test"
   ]
  },
  {
   "cell_type": "code",
   "execution_count": 48,
   "metadata": {},
   "outputs": [
    {
     "name": "stdout",
     "output_type": "stream",
     "text": [
      "519/519 [==============================] - 1s 1ms/step\n",
      "130/130 [==============================] - 0s 2ms/step\n"
     ]
    }
   ],
   "source": [
    "yprob_tr = model.predict(xtrain)\n",
    "yprob_ts = model.predict(xtest)"
   ]
  },
  {
   "cell_type": "code",
   "execution_count": 49,
   "metadata": {},
   "outputs": [
    {
     "data": {
      "text/plain": [
       "array([[4.8485026e-06, 5.2224984e-09, 9.5345122e-01, 2.8378762e-02,\n",
       "        3.4915942e-05, 2.1887702e-04, 1.7911352e-02],\n",
       "       [8.3102369e-01, 1.6847852e-01, 1.2648081e-11, 2.3176740e-16,\n",
       "        1.7830924e-05, 4.7995697e-04, 1.4621697e-10],\n",
       "       [4.8772767e-11, 7.7750476e-28, 1.0313132e-03, 9.9887890e-01,\n",
       "        8.9786990e-05, 1.2716586e-15, 9.4358601e-09],\n",
       "       [1.7048427e-05, 5.4831798e-06, 8.9936852e-01, 5.3077652e-03,\n",
       "        1.4087594e-05, 2.1335738e-02, 7.3951438e-02],\n",
       "       [1.1058003e-06, 4.4757002e-05, 6.8619281e-02, 6.5193204e-03,\n",
       "        1.0838713e-06, 5.4287069e-02, 8.7052739e-01]], dtype=float32)"
      ]
     },
     "execution_count": 49,
     "metadata": {},
     "output_type": "execute_result"
    }
   ],
   "source": [
    "yprob_tr[0:5]"
   ]
  },
  {
   "cell_type": "code",
   "execution_count": 51,
   "metadata": {},
   "outputs": [
    {
     "data": {
      "text/plain": [
       "array([[5.4559605e-16, 1.1436480e-25, 4.9070142e-05, 1.0046736e-10,\n",
       "        9.9995089e-01, 3.3882649e-16, 5.1536132e-12],\n",
       "       [2.3013531e-04, 7.7414729e-02, 4.0523680e-03, 9.7379252e-06,\n",
       "        4.0006820e-05, 8.3428395e-01, 8.3969153e-02],\n",
       "       [8.1665094e-05, 1.0363147e-04, 6.8159860e-01, 6.2921881e-03,\n",
       "        4.4803933e-04, 5.0916683e-02, 2.6055914e-01],\n",
       "       [6.5872711e-12, 3.8950342e-24, 1.4052085e-02, 9.8594725e-01,\n",
       "        9.1043564e-09, 8.7594146e-13, 6.7443307e-07],\n",
       "       [7.3934233e-01, 2.5642896e-01, 2.6176411e-10, 1.1754469e-14,\n",
       "        1.5582485e-04, 4.0728813e-03, 2.2213065e-08]], dtype=float32)"
      ]
     },
     "execution_count": 51,
     "metadata": {},
     "output_type": "execute_result"
    }
   ],
   "source": [
    "yprob_ts[0:5]"
   ]
  },
  {
   "cell_type": "markdown",
   "metadata": {},
   "source": [
    "### Get the prediction"
   ]
  },
  {
   "cell_type": "code",
   "execution_count": 52,
   "metadata": {},
   "outputs": [],
   "source": [
    "import numpy as np\n",
    "ypred_tr = np.argmax(yprob_tr, axis=1)\n",
    "ypred_ts = np.argmax(yprob_ts, axis=1)"
   ]
  },
  {
   "cell_type": "code",
   "execution_count": 53,
   "metadata": {},
   "outputs": [
    {
     "data": {
      "text/plain": [
       "array([2, 0, 3, 2, 6], dtype=int64)"
      ]
     },
     "execution_count": 53,
     "metadata": {},
     "output_type": "execute_result"
    }
   ],
   "source": [
    "ypred_tr[0:5]"
   ]
  },
  {
   "cell_type": "code",
   "execution_count": 54,
   "metadata": {},
   "outputs": [
    {
     "data": {
      "text/html": [
       "<div>\n",
       "<style scoped>\n",
       "    .dataframe tbody tr th:only-of-type {\n",
       "        vertical-align: middle;\n",
       "    }\n",
       "\n",
       "    .dataframe tbody tr th {\n",
       "        vertical-align: top;\n",
       "    }\n",
       "\n",
       "    .dataframe thead th {\n",
       "        text-align: right;\n",
       "    }\n",
       "</style>\n",
       "<table border=\"1\" class=\"dataframe\">\n",
       "  <thead>\n",
       "    <tr style=\"text-align: right;\">\n",
       "      <th></th>\n",
       "      <th>NObeyesdad</th>\n",
       "    </tr>\n",
       "  </thead>\n",
       "  <tbody>\n",
       "    <tr>\n",
       "      <th>9958</th>\n",
       "      <td>2.0</td>\n",
       "    </tr>\n",
       "    <tr>\n",
       "      <th>7841</th>\n",
       "      <td>0.0</td>\n",
       "    </tr>\n",
       "    <tr>\n",
       "      <th>9293</th>\n",
       "      <td>3.0</td>\n",
       "    </tr>\n",
       "    <tr>\n",
       "      <th>15209</th>\n",
       "      <td>2.0</td>\n",
       "    </tr>\n",
       "    <tr>\n",
       "      <th>16515</th>\n",
       "      <td>6.0</td>\n",
       "    </tr>\n",
       "  </tbody>\n",
       "</table>\n",
       "</div>"
      ],
      "text/plain": [
       "       NObeyesdad\n",
       "9958          2.0\n",
       "7841          0.0\n",
       "9293          3.0\n",
       "15209         2.0\n",
       "16515         6.0"
      ]
     },
     "execution_count": 54,
     "metadata": {},
     "output_type": "execute_result"
    }
   ],
   "source": [
    "ytrain.head()"
   ]
  },
  {
   "cell_type": "code",
   "execution_count": 55,
   "metadata": {},
   "outputs": [
    {
     "data": {
      "text/plain": [
       "array([4, 5, 2, 3, 0], dtype=int64)"
      ]
     },
     "execution_count": 55,
     "metadata": {},
     "output_type": "execute_result"
    }
   ],
   "source": [
    "ypred_ts[0:5]"
   ]
  },
  {
   "cell_type": "code",
   "execution_count": 56,
   "metadata": {},
   "outputs": [
    {
     "data": {
      "text/html": [
       "<div>\n",
       "<style scoped>\n",
       "    .dataframe tbody tr th:only-of-type {\n",
       "        vertical-align: middle;\n",
       "    }\n",
       "\n",
       "    .dataframe tbody tr th {\n",
       "        vertical-align: top;\n",
       "    }\n",
       "\n",
       "    .dataframe thead th {\n",
       "        text-align: right;\n",
       "    }\n",
       "</style>\n",
       "<table border=\"1\" class=\"dataframe\">\n",
       "  <thead>\n",
       "    <tr style=\"text-align: right;\">\n",
       "      <th></th>\n",
       "      <th>NObeyesdad</th>\n",
       "    </tr>\n",
       "  </thead>\n",
       "  <tbody>\n",
       "    <tr>\n",
       "      <th>10317</th>\n",
       "      <td>4.0</td>\n",
       "    </tr>\n",
       "    <tr>\n",
       "      <th>4074</th>\n",
       "      <td>5.0</td>\n",
       "    </tr>\n",
       "    <tr>\n",
       "      <th>9060</th>\n",
       "      <td>2.0</td>\n",
       "    </tr>\n",
       "    <tr>\n",
       "      <th>11286</th>\n",
       "      <td>3.0</td>\n",
       "    </tr>\n",
       "    <tr>\n",
       "      <th>8254</th>\n",
       "      <td>0.0</td>\n",
       "    </tr>\n",
       "  </tbody>\n",
       "</table>\n",
       "</div>"
      ],
      "text/plain": [
       "       NObeyesdad\n",
       "10317         4.0\n",
       "4074          5.0\n",
       "9060          2.0\n",
       "11286         3.0\n",
       "8254          0.0"
      ]
     },
     "execution_count": 56,
     "metadata": {},
     "output_type": "execute_result"
    }
   ],
   "source": [
    "ytest.head()"
   ]
  },
  {
   "cell_type": "markdown",
   "metadata": {},
   "source": [
    "### Getting orignal labels"
   ]
  },
  {
   "cell_type": "code",
   "execution_count": 58,
   "metadata": {},
   "outputs": [],
   "source": [
    "ytrain_org = ord.inverse_transform(ytrain)\n",
    "ytest_org = ord.inverse_transform(ytest)"
   ]
  },
  {
   "cell_type": "code",
   "execution_count": 59,
   "metadata": {},
   "outputs": [
    {
     "data": {
      "text/plain": [
       "array([['Obesity_Type_I'],\n",
       "       ['Insufficient_Weight'],\n",
       "       ['Obesity_Type_II'],\n",
       "       ['Obesity_Type_I'],\n",
       "       ['Overweight_Level_II']], dtype=object)"
      ]
     },
     "execution_count": 59,
     "metadata": {},
     "output_type": "execute_result"
    }
   ],
   "source": [
    "ytrain_org[0:5]"
   ]
  },
  {
   "cell_type": "code",
   "execution_count": 64,
   "metadata": {},
   "outputs": [
    {
     "data": {
      "text/plain": [
       "(16606, 1)"
      ]
     },
     "execution_count": 64,
     "metadata": {},
     "output_type": "execute_result"
    }
   ],
   "source": [
    "ytrain_org.shape"
   ]
  },
  {
   "cell_type": "code",
   "execution_count": 60,
   "metadata": {},
   "outputs": [
    {
     "data": {
      "text/plain": [
       "array([['Obesity_Type_III'],\n",
       "       ['Overweight_Level_I'],\n",
       "       ['Obesity_Type_I'],\n",
       "       ['Obesity_Type_II'],\n",
       "       ['Insufficient_Weight']], dtype=object)"
      ]
     },
     "execution_count": 60,
     "metadata": {},
     "output_type": "execute_result"
    }
   ],
   "source": [
    "ytest_org[0:5]"
   ]
  },
  {
   "cell_type": "code",
   "execution_count": 68,
   "metadata": {},
   "outputs": [],
   "source": [
    "ypred_tr_lb = ord.inverse_transform(pd.DataFrame([ypred_tr]).T)\n",
    "ypred_ts_lb = ord.inverse_transform(pd.DataFrame([ypred_ts]).T)"
   ]
  },
  {
   "cell_type": "code",
   "execution_count": 69,
   "metadata": {},
   "outputs": [
    {
     "data": {
      "text/plain": [
       "array([['Obesity_Type_III'],\n",
       "       ['Overweight_Level_I'],\n",
       "       ['Obesity_Type_I'],\n",
       "       ['Obesity_Type_II'],\n",
       "       ['Insufficient_Weight']], dtype=object)"
      ]
     },
     "execution_count": 69,
     "metadata": {},
     "output_type": "execute_result"
    }
   ],
   "source": [
    "ypred_ts_lb[0:5]"
   ]
  },
  {
   "cell_type": "code",
   "execution_count": 71,
   "metadata": {},
   "outputs": [
    {
     "data": {
      "text/plain": [
       "array([['Obesity_Type_III'],\n",
       "       ['Overweight_Level_I'],\n",
       "       ['Obesity_Type_I'],\n",
       "       ['Obesity_Type_II'],\n",
       "       ['Insufficient_Weight']], dtype=object)"
      ]
     },
     "execution_count": 71,
     "metadata": {},
     "output_type": "execute_result"
    }
   ],
   "source": [
    "ypred_ts_lb[0:5]"
   ]
  },
  {
   "cell_type": "code",
   "execution_count": null,
   "metadata": {},
   "outputs": [],
   "source": []
  },
  {
   "cell_type": "markdown",
   "metadata": {},
   "source": [
    "### Plot the confusion matrix"
   ]
  },
  {
   "cell_type": "code",
   "execution_count": 72,
   "metadata": {},
   "outputs": [
    {
     "data": {
      "text/plain": [
       "<sklearn.metrics._plot.confusion_matrix.ConfusionMatrixDisplay at 0x1e22738efd0>"
      ]
     },
     "execution_count": 72,
     "metadata": {},
     "output_type": "execute_result"
    },
    {
     "data": {
      "image/png": "[encoded data removed]",
      "text/plain": [
       "<Figure size 640x480 with 2 Axes>"
      ]
     },
     "metadata": {},
     "output_type": "display_data"
    }
   ],
   "source": [
    "from sklearn.metrics import confusion_matrix, ConfusionMatrixDisplay\n",
    "cf = confusion_matrix(ytest_org, ypred_ts_lb)\n",
    "cfd = ConfusionMatrixDisplay(cf)\n",
    "cfd.plot()"
   ]
  },
  {
   "cell_type": "code",
   "execution_count": 73,
   "metadata": {},
   "outputs": [
    {
     "name": "stdout",
     "output_type": "stream",
     "text": [
      "                     precision    recall  f1-score   support\n",
      "\n",
      "Insufficient_Weight       0.89      0.94      0.91       524\n",
      "      Normal_Weight       0.85      0.84      0.85       626\n",
      "     Obesity_Type_I       0.83      0.84      0.84       543\n",
      "    Obesity_Type_II       0.97      0.96      0.96       657\n",
      "   Obesity_Type_III       1.00      1.00      1.00       804\n",
      " Overweight_Level_I       0.77      0.71      0.74       484\n",
      "Overweight_Level_II       0.73      0.74      0.74       514\n",
      "\n",
      "           accuracy                           0.88      4152\n",
      "          macro avg       0.86      0.86      0.86      4152\n",
      "       weighted avg       0.87      0.88      0.88      4152\n",
      "\n"
     ]
    }
   ],
   "source": [
    "from sklearn.metrics import classification_report \n",
    "print(classification_report(ytest_org, ypred_ts_lb))"
   ]
  },
  {
   "cell_type": "markdown",
   "metadata": {},
   "source": [
    "### Perform predictions for out of sample data"
   ]
  },
  {
   "cell_type": "code",
   "execution_count": 74,
   "metadata": {},
   "outputs": [
    {
     "data": {
      "text/html": [
       "<div>\n",
       "<style scoped>\n",
       "    .dataframe tbody tr th:only-of-type {\n",
       "        vertical-align: middle;\n",
       "    }\n",
       "\n",
       "    .dataframe tbody tr th {\n",
       "        vertical-align: top;\n",
       "    }\n",
       "\n",
       "    .dataframe thead th {\n",
       "        text-align: right;\n",
       "    }\n",
       "</style>\n",
       "<table border=\"1\" class=\"dataframe\">\n",
       "  <thead>\n",
       "    <tr style=\"text-align: right;\">\n",
       "      <th></th>\n",
       "      <th>id</th>\n",
       "      <th>Gender</th>\n",
       "      <th>Age</th>\n",
       "      <th>Height</th>\n",
       "      <th>Weight</th>\n",
       "      <th>family_history_with_overweight</th>\n",
       "      <th>FAVC</th>\n",
       "      <th>FCVC</th>\n",
       "      <th>NCP</th>\n",
       "      <th>CAEC</th>\n",
       "      <th>SMOKE</th>\n",
       "      <th>CH2O</th>\n",
       "      <th>SCC</th>\n",
       "      <th>FAF</th>\n",
       "      <th>TUE</th>\n",
       "      <th>CALC</th>\n",
       "      <th>MTRANS</th>\n",
       "    </tr>\n",
       "  </thead>\n",
       "  <tbody>\n",
       "    <tr>\n",
       "      <th>0</th>\n",
       "      <td>20758</td>\n",
       "      <td>Male</td>\n",
       "      <td>26.899886</td>\n",
       "      <td>1.848294</td>\n",
       "      <td>120.644178</td>\n",
       "      <td>yes</td>\n",
       "      <td>yes</td>\n",
       "      <td>2.938616</td>\n",
       "      <td>3.000000</td>\n",
       "      <td>Sometimes</td>\n",
       "      <td>no</td>\n",
       "      <td>2.825629</td>\n",
       "      <td>no</td>\n",
       "      <td>0.855400</td>\n",
       "      <td>0.000000</td>\n",
       "      <td>Sometimes</td>\n",
       "      <td>Public_Transportation</td>\n",
       "    </tr>\n",
       "    <tr>\n",
       "      <th>1</th>\n",
       "      <td>20759</td>\n",
       "      <td>Female</td>\n",
       "      <td>21.000000</td>\n",
       "      <td>1.600000</td>\n",
       "      <td>66.000000</td>\n",
       "      <td>yes</td>\n",
       "      <td>yes</td>\n",
       "      <td>2.000000</td>\n",
       "      <td>1.000000</td>\n",
       "      <td>Sometimes</td>\n",
       "      <td>no</td>\n",
       "      <td>3.000000</td>\n",
       "      <td>no</td>\n",
       "      <td>1.000000</td>\n",
       "      <td>0.000000</td>\n",
       "      <td>Sometimes</td>\n",
       "      <td>Public_Transportation</td>\n",
       "    </tr>\n",
       "    <tr>\n",
       "      <th>2</th>\n",
       "      <td>20760</td>\n",
       "      <td>Female</td>\n",
       "      <td>26.000000</td>\n",
       "      <td>1.643355</td>\n",
       "      <td>111.600553</td>\n",
       "      <td>yes</td>\n",
       "      <td>yes</td>\n",
       "      <td>3.000000</td>\n",
       "      <td>3.000000</td>\n",
       "      <td>Sometimes</td>\n",
       "      <td>no</td>\n",
       "      <td>2.621877</td>\n",
       "      <td>no</td>\n",
       "      <td>0.000000</td>\n",
       "      <td>0.250502</td>\n",
       "      <td>Sometimes</td>\n",
       "      <td>Public_Transportation</td>\n",
       "    </tr>\n",
       "    <tr>\n",
       "      <th>3</th>\n",
       "      <td>20761</td>\n",
       "      <td>Male</td>\n",
       "      <td>20.979254</td>\n",
       "      <td>1.553127</td>\n",
       "      <td>103.669116</td>\n",
       "      <td>yes</td>\n",
       "      <td>yes</td>\n",
       "      <td>2.000000</td>\n",
       "      <td>2.977909</td>\n",
       "      <td>Sometimes</td>\n",
       "      <td>no</td>\n",
       "      <td>2.786417</td>\n",
       "      <td>no</td>\n",
       "      <td>0.094851</td>\n",
       "      <td>0.000000</td>\n",
       "      <td>Sometimes</td>\n",
       "      <td>Public_Transportation</td>\n",
       "    </tr>\n",
       "    <tr>\n",
       "      <th>4</th>\n",
       "      <td>20762</td>\n",
       "      <td>Female</td>\n",
       "      <td>26.000000</td>\n",
       "      <td>1.627396</td>\n",
       "      <td>104.835346</td>\n",
       "      <td>yes</td>\n",
       "      <td>yes</td>\n",
       "      <td>3.000000</td>\n",
       "      <td>3.000000</td>\n",
       "      <td>Sometimes</td>\n",
       "      <td>no</td>\n",
       "      <td>2.653531</td>\n",
       "      <td>no</td>\n",
       "      <td>0.000000</td>\n",
       "      <td>0.741069</td>\n",
       "      <td>Sometimes</td>\n",
       "      <td>Public_Transportation</td>\n",
       "    </tr>\n",
       "  </tbody>\n",
       "</table>\n",
       "</div>"
      ],
      "text/plain": [
       "      id  Gender        Age    Height      Weight  \\\n",
       "0  20758    Male  26.899886  1.848294  120.644178   \n",
       "1  20759  Female  21.000000  1.600000   66.000000   \n",
       "2  20760  Female  26.000000  1.643355  111.600553   \n",
       "3  20761    Male  20.979254  1.553127  103.669116   \n",
       "4  20762  Female  26.000000  1.627396  104.835346   \n",
       "\n",
       "  family_history_with_overweight FAVC      FCVC       NCP       CAEC SMOKE  \\\n",
       "0                            yes  yes  2.938616  3.000000  Sometimes    no   \n",
       "1                            yes  yes  2.000000  1.000000  Sometimes    no   \n",
       "2                            yes  yes  3.000000  3.000000  Sometimes    no   \n",
       "3                            yes  yes  2.000000  2.977909  Sometimes    no   \n",
       "4                            yes  yes  3.000000  3.000000  Sometimes    no   \n",
       "\n",
       "       CH2O SCC       FAF       TUE       CALC                 MTRANS  \n",
       "0  2.825629  no  0.855400  0.000000  Sometimes  Public_Transportation  \n",
       "1  3.000000  no  1.000000  0.000000  Sometimes  Public_Transportation  \n",
       "2  2.621877  no  0.000000  0.250502  Sometimes  Public_Transportation  \n",
       "3  2.786417  no  0.094851  0.000000  Sometimes  Public_Transportation  \n",
       "4  2.653531  no  0.000000  0.741069  Sometimes  Public_Transportation  "
      ]
     },
     "execution_count": 74,
     "metadata": {},
     "output_type": "execute_result"
    }
   ],
   "source": [
    "xnew = pd.read_csv('test.csv')\n",
    "xnew.head()"
   ]
  },
  {
   "cell_type": "code",
   "execution_count": 75,
   "metadata": {},
   "outputs": [
    {
     "data": {
      "text/html": [
       "<div>\n",
       "<style scoped>\n",
       "    .dataframe tbody tr th:only-of-type {\n",
       "        vertical-align: middle;\n",
       "    }\n",
       "\n",
       "    .dataframe tbody tr th {\n",
       "        vertical-align: top;\n",
       "    }\n",
       "\n",
       "    .dataframe thead th {\n",
       "        text-align: right;\n",
       "    }\n",
       "</style>\n",
       "<table border=\"1\" class=\"dataframe\">\n",
       "  <thead>\n",
       "    <tr style=\"text-align: right;\">\n",
       "      <th></th>\n",
       "      <th>con__Age</th>\n",
       "      <th>con__Height</th>\n",
       "      <th>con__Weight</th>\n",
       "      <th>con__FCVC</th>\n",
       "      <th>con__NCP</th>\n",
       "      <th>con__CH2O</th>\n",
       "      <th>con__FAF</th>\n",
       "      <th>con__TUE</th>\n",
       "      <th>cat__Gender_Female</th>\n",
       "      <th>cat__Gender_Male</th>\n",
       "      <th>...</th>\n",
       "      <th>cat__SCC_no</th>\n",
       "      <th>cat__SCC_yes</th>\n",
       "      <th>cat__CALC_Frequently</th>\n",
       "      <th>cat__CALC_Sometimes</th>\n",
       "      <th>cat__CALC_no</th>\n",
       "      <th>cat__MTRANS_Automobile</th>\n",
       "      <th>cat__MTRANS_Bike</th>\n",
       "      <th>cat__MTRANS_Motorbike</th>\n",
       "      <th>cat__MTRANS_Public_Transportation</th>\n",
       "      <th>cat__MTRANS_Walking</th>\n",
       "    </tr>\n",
       "  </thead>\n",
       "  <tbody>\n",
       "    <tr>\n",
       "      <th>0</th>\n",
       "      <td>0.537644</td>\n",
       "      <td>1.695675</td>\n",
       "      <td>1.241770</td>\n",
       "      <td>0.924049</td>\n",
       "      <td>0.338364</td>\n",
       "      <td>1.308584</td>\n",
       "      <td>-0.150721</td>\n",
       "      <td>-1.024344</td>\n",
       "      <td>0.0</td>\n",
       "      <td>1.0</td>\n",
       "      <td>...</td>\n",
       "      <td>1.0</td>\n",
       "      <td>0.0</td>\n",
       "      <td>0.0</td>\n",
       "      <td>1.0</td>\n",
       "      <td>0.0</td>\n",
       "      <td>0.0</td>\n",
       "      <td>0.0</td>\n",
       "      <td>0.0</td>\n",
       "      <td>1.0</td>\n",
       "      <td>0.0</td>\n",
       "    </tr>\n",
       "    <tr>\n",
       "      <th>1</th>\n",
       "      <td>-0.499620</td>\n",
       "      <td>-1.148152</td>\n",
       "      <td>-0.829748</td>\n",
       "      <td>-0.836279</td>\n",
       "      <td>-2.497077</td>\n",
       "      <td>1.595165</td>\n",
       "      <td>0.021775</td>\n",
       "      <td>-1.024344</td>\n",
       "      <td>1.0</td>\n",
       "      <td>0.0</td>\n",
       "      <td>...</td>\n",
       "      <td>1.0</td>\n",
       "      <td>0.0</td>\n",
       "      <td>0.0</td>\n",
       "      <td>1.0</td>\n",
       "      <td>0.0</td>\n",
       "      <td>0.0</td>\n",
       "      <td>0.0</td>\n",
       "      <td>0.0</td>\n",
       "      <td>1.0</td>\n",
       "      <td>0.0</td>\n",
       "    </tr>\n",
       "    <tr>\n",
       "      <th>2</th>\n",
       "      <td>0.379434</td>\n",
       "      <td>-0.651587</td>\n",
       "      <td>0.898933</td>\n",
       "      <td>1.039171</td>\n",
       "      <td>0.338364</td>\n",
       "      <td>0.973714</td>\n",
       "      <td>-1.171141</td>\n",
       "      <td>-0.608296</td>\n",
       "      <td>1.0</td>\n",
       "      <td>0.0</td>\n",
       "      <td>...</td>\n",
       "      <td>1.0</td>\n",
       "      <td>0.0</td>\n",
       "      <td>0.0</td>\n",
       "      <td>1.0</td>\n",
       "      <td>0.0</td>\n",
       "      <td>0.0</td>\n",
       "      <td>0.0</td>\n",
       "      <td>0.0</td>\n",
       "      <td>1.0</td>\n",
       "      <td>0.0</td>\n",
       "    </tr>\n",
       "    <tr>\n",
       "      <th>3</th>\n",
       "      <td>-0.503267</td>\n",
       "      <td>-1.685011</td>\n",
       "      <td>0.598259</td>\n",
       "      <td>-0.836279</td>\n",
       "      <td>0.307045</td>\n",
       "      <td>1.244138</td>\n",
       "      <td>-1.057992</td>\n",
       "      <td>-1.024344</td>\n",
       "      <td>0.0</td>\n",
       "      <td>1.0</td>\n",
       "      <td>...</td>\n",
       "      <td>1.0</td>\n",
       "      <td>0.0</td>\n",
       "      <td>0.0</td>\n",
       "      <td>1.0</td>\n",
       "      <td>0.0</td>\n",
       "      <td>0.0</td>\n",
       "      <td>0.0</td>\n",
       "      <td>0.0</td>\n",
       "      <td>1.0</td>\n",
       "      <td>0.0</td>\n",
       "    </tr>\n",
       "    <tr>\n",
       "      <th>4</th>\n",
       "      <td>0.379434</td>\n",
       "      <td>-0.834373</td>\n",
       "      <td>0.642469</td>\n",
       "      <td>1.039171</td>\n",
       "      <td>0.338364</td>\n",
       "      <td>1.025738</td>\n",
       "      <td>-1.171141</td>\n",
       "      <td>0.206466</td>\n",
       "      <td>1.0</td>\n",
       "      <td>0.0</td>\n",
       "      <td>...</td>\n",
       "      <td>1.0</td>\n",
       "      <td>0.0</td>\n",
       "      <td>0.0</td>\n",
       "      <td>1.0</td>\n",
       "      <td>0.0</td>\n",
       "      <td>0.0</td>\n",
       "      <td>0.0</td>\n",
       "      <td>0.0</td>\n",
       "      <td>1.0</td>\n",
       "      <td>0.0</td>\n",
       "    </tr>\n",
       "  </tbody>\n",
       "</table>\n",
       "<p>5 rows × 30 columns</p>\n",
       "</div>"
      ],
      "text/plain": [
       "   con__Age  con__Height  con__Weight  con__FCVC  con__NCP  con__CH2O  \\\n",
       "0  0.537644     1.695675     1.241770   0.924049  0.338364   1.308584   \n",
       "1 -0.499620    -1.148152    -0.829748  -0.836279 -2.497077   1.595165   \n",
       "2  0.379434    -0.651587     0.898933   1.039171  0.338364   0.973714   \n",
       "3 -0.503267    -1.685011     0.598259  -0.836279  0.307045   1.244138   \n",
       "4  0.379434    -0.834373     0.642469   1.039171  0.338364   1.025738   \n",
       "\n",
       "   con__FAF  con__TUE  cat__Gender_Female  cat__Gender_Male  ...  cat__SCC_no  \\\n",
       "0 -0.150721 -1.024344                 0.0               1.0  ...          1.0   \n",
       "1  0.021775 -1.024344                 1.0               0.0  ...          1.0   \n",
       "2 -1.171141 -0.608296                 1.0               0.0  ...          1.0   \n",
       "3 -1.057992 -1.024344                 0.0               1.0  ...          1.0   \n",
       "4 -1.171141  0.206466                 1.0               0.0  ...          1.0   \n",
       "\n",
       "   cat__SCC_yes  cat__CALC_Frequently  cat__CALC_Sometimes  cat__CALC_no  \\\n",
       "0           0.0                   0.0                  1.0           0.0   \n",
       "1           0.0                   0.0                  1.0           0.0   \n",
       "2           0.0                   0.0                  1.0           0.0   \n",
       "3           0.0                   0.0                  1.0           0.0   \n",
       "4           0.0                   0.0                  1.0           0.0   \n",
       "\n",
       "   cat__MTRANS_Automobile  cat__MTRANS_Bike  cat__MTRANS_Motorbike  \\\n",
       "0                     0.0               0.0                    0.0   \n",
       "1                     0.0               0.0                    0.0   \n",
       "2                     0.0               0.0                    0.0   \n",
       "3                     0.0               0.0                    0.0   \n",
       "4                     0.0               0.0                    0.0   \n",
       "\n",
       "   cat__MTRANS_Public_Transportation  cat__MTRANS_Walking  \n",
       "0                                1.0                  0.0  \n",
       "1                                1.0                  0.0  \n",
       "2                                1.0                  0.0  \n",
       "3                                1.0                  0.0  \n",
       "4                                1.0                  0.0  \n",
       "\n",
       "[5 rows x 30 columns]"
      ]
     },
     "execution_count": 75,
     "metadata": {},
     "output_type": "execute_result"
    }
   ],
   "source": [
    "xnew_pre = pre.transform(xnew)\n",
    "xnew_pre.head()"
   ]
  },
  {
   "cell_type": "markdown",
   "metadata": {},
   "source": [
    "### Predict the probability"
   ]
  },
  {
   "cell_type": "code",
   "execution_count": 76,
   "metadata": {},
   "outputs": [
    {
     "name": "stdout",
     "output_type": "stream",
     "text": [
      "433/433 [==============================] - 1s 1ms/step\n"
     ]
    },
    {
     "data": {
      "text/plain": [
       "array([[2.1081281e-10, 9.1660899e-27, 1.0211699e-03, ..., 4.4737939e-05,\n",
       "        2.3717731e-15, 1.2433995e-08],\n",
       "       [1.3187382e-04, 1.1027697e-02, 1.1763145e-02, ..., 3.4505170e-05,\n",
       "        9.5974213e-01, 1.7296903e-02],\n",
       "       [4.0003905e-16, 1.1309073e-26, 5.5397086e-05, ..., 9.9994457e-01,\n",
       "        9.8650903e-17, 1.6082165e-12],\n",
       "       ...,\n",
       "       [9.2556190e-01, 7.3009312e-02, 4.1984589e-11, ..., 1.1231745e-05,\n",
       "        1.4174952e-03, 1.3731812e-10],\n",
       "       [1.1220149e-01, 8.8138545e-01, 1.1871017e-08, ..., 2.3827391e-05,\n",
       "        6.3886233e-03, 5.9875896e-07],\n",
       "       [1.2944255e-10, 3.3745997e-26, 2.0430461e-03, ..., 1.0753833e-05,\n",
       "        1.6003697e-14, 4.7819018e-08]], dtype=float32)"
      ]
     },
     "execution_count": 76,
     "metadata": {},
     "output_type": "execute_result"
    }
   ],
   "source": [
    "probs = model.predict(xnew_pre)\n",
    "probs"
   ]
  },
  {
   "cell_type": "code",
   "execution_count": 77,
   "metadata": {},
   "outputs": [
    {
     "data": {
      "text/plain": [
       "array([3, 5, 4, ..., 0, 1, 3], dtype=int64)"
      ]
     },
     "execution_count": 77,
     "metadata": {},
     "output_type": "execute_result"
    }
   ],
   "source": [
    "preds = np.argmax(probs, axis=1)\n",
    "preds"
   ]
  },
  {
   "cell_type": "code",
   "execution_count": 78,
   "metadata": {},
   "outputs": [
    {
     "data": {
      "text/plain": [
       "array([['Obesity_Type_II'],\n",
       "       ['Overweight_Level_I'],\n",
       "       ['Obesity_Type_III'],\n",
       "       ...,\n",
       "       ['Insufficient_Weight'],\n",
       "       ['Normal_Weight'],\n",
       "       ['Obesity_Type_II']], dtype=object)"
      ]
     },
     "execution_count": 78,
     "metadata": {},
     "output_type": "execute_result"
    }
   ],
   "source": [
    "preds_lb = ord.inverse_transform(pd.DataFrame([preds]).T)\n",
    "preds_lb"
   ]
  },
  {
   "cell_type": "code",
   "execution_count": 79,
   "metadata": {},
   "outputs": [
    {
     "data": {
      "text/plain": [
       "array([0.9989341 , 0.9597421 , 0.99994457, ..., 0.9255619 , 0.88138545,\n",
       "       0.9979462 ], dtype=float32)"
      ]
     },
     "execution_count": 79,
     "metadata": {},
     "output_type": "execute_result"
    }
   ],
   "source": [
    "max_prob = np.max(probs, axis=1)\n",
    "max_prob"
   ]
  },
  {
   "cell_type": "markdown",
   "metadata": {},
   "source": [
    "### Save above results in Dataframe"
   ]
  },
  {
   "cell_type": "code",
   "execution_count": 80,
   "metadata": {},
   "outputs": [
    {
     "data": {
      "text/html": [
       "<div>\n",
       "<style scoped>\n",
       "    .dataframe tbody tr th:only-of-type {\n",
       "        vertical-align: middle;\n",
       "    }\n",
       "\n",
       "    .dataframe tbody tr th {\n",
       "        vertical-align: top;\n",
       "    }\n",
       "\n",
       "    .dataframe thead th {\n",
       "        text-align: right;\n",
       "    }\n",
       "</style>\n",
       "<table border=\"1\" class=\"dataframe\">\n",
       "  <thead>\n",
       "    <tr style=\"text-align: right;\">\n",
       "      <th></th>\n",
       "      <th>id</th>\n",
       "    </tr>\n",
       "  </thead>\n",
       "  <tbody>\n",
       "    <tr>\n",
       "      <th>0</th>\n",
       "      <td>20758</td>\n",
       "    </tr>\n",
       "    <tr>\n",
       "      <th>1</th>\n",
       "      <td>20759</td>\n",
       "    </tr>\n",
       "    <tr>\n",
       "      <th>2</th>\n",
       "      <td>20760</td>\n",
       "    </tr>\n",
       "    <tr>\n",
       "      <th>3</th>\n",
       "      <td>20761</td>\n",
       "    </tr>\n",
       "    <tr>\n",
       "      <th>4</th>\n",
       "      <td>20762</td>\n",
       "    </tr>\n",
       "  </tbody>\n",
       "</table>\n",
       "</div>"
      ],
      "text/plain": [
       "      id\n",
       "0  20758\n",
       "1  20759\n",
       "2  20760\n",
       "3  20761\n",
       "4  20762"
      ]
     },
     "execution_count": 80,
     "metadata": {},
     "output_type": "execute_result"
    }
   ],
   "source": [
    "df_final = xnew[['id']]\n",
    "df_final.head()"
   ]
  },
  {
   "cell_type": "code",
   "execution_count": 82,
   "metadata": {},
   "outputs": [],
   "source": [
    "df_final['Obesity_pred'] = preds_lb.flatten()\n",
    "df_final['Prob'] = max_prob"
   ]
  },
  {
   "cell_type": "code",
   "execution_count": 83,
   "metadata": {},
   "outputs": [
    {
     "data": {
      "text/html": [
       "<div>\n",
       "<style scoped>\n",
       "    .dataframe tbody tr th:only-of-type {\n",
       "        vertical-align: middle;\n",
       "    }\n",
       "\n",
       "    .dataframe tbody tr th {\n",
       "        vertical-align: top;\n",
       "    }\n",
       "\n",
       "    .dataframe thead th {\n",
       "        text-align: right;\n",
       "    }\n",
       "</style>\n",
       "<table border=\"1\" class=\"dataframe\">\n",
       "  <thead>\n",
       "    <tr style=\"text-align: right;\">\n",
       "      <th></th>\n",
       "      <th>id</th>\n",
       "      <th>Obesity_pred</th>\n",
       "      <th>Prob</th>\n",
       "    </tr>\n",
       "  </thead>\n",
       "  <tbody>\n",
       "    <tr>\n",
       "      <th>0</th>\n",
       "      <td>20758</td>\n",
       "      <td>Obesity_Type_II</td>\n",
       "      <td>0.998934</td>\n",
       "    </tr>\n",
       "    <tr>\n",
       "      <th>1</th>\n",
       "      <td>20759</td>\n",
       "      <td>Overweight_Level_I</td>\n",
       "      <td>0.959742</td>\n",
       "    </tr>\n",
       "    <tr>\n",
       "      <th>2</th>\n",
       "      <td>20760</td>\n",
       "      <td>Obesity_Type_III</td>\n",
       "      <td>0.999945</td>\n",
       "    </tr>\n",
       "    <tr>\n",
       "      <th>3</th>\n",
       "      <td>20761</td>\n",
       "      <td>Obesity_Type_I</td>\n",
       "      <td>0.927675</td>\n",
       "    </tr>\n",
       "    <tr>\n",
       "      <th>4</th>\n",
       "      <td>20762</td>\n",
       "      <td>Obesity_Type_III</td>\n",
       "      <td>0.999615</td>\n",
       "    </tr>\n",
       "  </tbody>\n",
       "</table>\n",
       "</div>"
      ],
      "text/plain": [
       "      id        Obesity_pred      Prob\n",
       "0  20758     Obesity_Type_II  0.998934\n",
       "1  20759  Overweight_Level_I  0.959742\n",
       "2  20760    Obesity_Type_III  0.999945\n",
       "3  20761      Obesity_Type_I  0.927675\n",
       "4  20762    Obesity_Type_III  0.999615"
      ]
     },
     "execution_count": 83,
     "metadata": {},
     "output_type": "execute_result"
    }
   ],
   "source": [
    "df_final.head()"
   ]
  },
  {
   "cell_type": "code",
   "execution_count": 84,
   "metadata": {},
   "outputs": [
    {
     "data": {
      "text/plain": [
       "Obesity_pred\n",
       "Obesity_Type_III       2633\n",
       "Obesity_Type_II        2106\n",
       "Normal_Weight          2101\n",
       "Obesity_Type_I         2066\n",
       "Overweight_Level_II    1817\n",
       "Insufficient_Weight    1810\n",
       "Overweight_Level_I     1307\n",
       "Name: count, dtype: int64"
      ]
     },
     "execution_count": 84,
     "metadata": {},
     "output_type": "execute_result"
    }
   ],
   "source": [
    "df_final['Obesity_pred'].value_counts()"
   ]
  },
  {
   "cell_type": "code",
   "execution_count": 85,
   "metadata": {},
   "outputs": [
    {
     "data": {
      "text/plain": [
       "<Axes: xlabel='Obesity_pred'>"
      ]
     },
     "execution_count": 85,
     "metadata": {},
     "output_type": "execute_result"
    },
    {
     "data": {
      "image/png": "[encoded data removed]",
      "text/plain": [
       "<Figure size 640x480 with 1 Axes>"
      ]
     },
     "metadata": {},
     "output_type": "display_data"
    }
   ],
   "source": [
    "df_final['Obesity_pred'].value_counts().plot(kind='bar')"
   ]
  },
  {
   "cell_type": "markdown",
   "metadata": {},
   "source": [
    "### Save above file in results.csv"
   ]
  },
  {
   "cell_type": "code",
   "execution_count": 86,
   "metadata": {},
   "outputs": [],
   "source": [
    "df_final.to_csv('Results.csv', index=False)"
   ]
  }
 ],
 "metadata": {
  "kernelspec": {
   "display_name": "venv",
   "language": "python",
   "name": "python3"
  },
  "language_info": {
   "codemirror_mode": {
    "name": "ipython",
    "version": 3
   },
   "file_extension": ".py",
   "mimetype": "text/x-python",
   "name": "python",
   "nbconvert_exporter": "python",
   "pygments_lexer": "ipython3",
   "version": "3.11.7"
  }
 },
 "nbformat": 4,
 "nbformat_minor": 2
}
